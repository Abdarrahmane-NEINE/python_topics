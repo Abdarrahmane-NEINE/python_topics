{
 "cells": [
  {
   "cell_type": "markdown",
   "metadata": {},
   "source": [
    "# List of Design Patterns (Including More Advanced & Rare Ones)"
   ]
  },
  {
   "cell_type": "markdown",
   "metadata": {},
   "source": [
    "## 1. Creational Patterns (Object Creation)\n",
    "### Pattern\tDescription\n",
    " *Focus on object creation mechanisms, trying to create objects in a manner suitable to the situation.*  \n",
    "  - **Key Idea:** Provide flexible and controlled ways to instantiate objects.\n"
   ]
  },
  {
   "cell_type": "markdown",
   "metadata": {},
   "source": [
    "#### 1.1 Singleton\n",
    "**Purpose:** Ensure a class has only one instance and provide a global point of access to it (Role, database connection).\n",
    "\n",
    "**Example (CEO as a singleton):**"
   ]
  },
  {
   "cell_type": "code",
   "execution_count": 8,
   "metadata": {},
   "outputs": [
    {
     "name": "stdout",
     "output_type": "stream",
     "text": [
      "Hello, I'm the CEO, Alice.\n",
      "Hello, I'm the CEO, Alice.\n"
     ]
    }
   ],
   "source": [
    "class CEO:\n",
    "    __instance = None\n",
    "\n",
    "    def __new__(cls, name):\n",
    "        if cls.__instance is None:\n",
    "            cls.__instance = super(CEO, cls).__new__(cls)\n",
    "            cls.__instance.name = name\n",
    "        return cls.__instance\n",
    "    def speak(self):\n",
    "        print(f\"Hello, I'm the CEO, {self.name}.\")\n",
    "\n",
    "# Usage:\n",
    "ceo1 = CEO(\"Alice\")\n",
    "ceo2 = CEO(\"Bob\")\n",
    "ceo1.speak()  # Output: Hello, I'm the CEO, Alice.\n",
    "ceo2.speak()  # Output: Hello, I'm the CEO, Alice.\n",
    "# Both references point to the same instance."
   ]
  },
  {
   "cell_type": "markdown",
   "metadata": {},
   "source": [
    "#### 1.2 Factory Method\n",
    "Purpose: Define an interface for creating an object but let subclasses decide which class to instantiate.\n",
    "\n",
    "Example (Creating Persons based on role):"
   ]
  },
  {
   "cell_type": "code",
   "execution_count": null,
   "metadata": {},
   "outputs": [],
   "source": [
    "from abc import ABC, abstractmethod\n",
    "\n",
    "class Person(ABC):\n",
    "    @abstractmethod\n",
    "    def speak(self):\n",
    "        pass\n",
    "\n",
    "class Teacher(Person):\n",
    "    def speak(self):\n",
    "        print(\"Hello, I'm a teacher.\")\n",
    "\n",
    "class Student(Person):\n",
    "    def speak(self):\n",
    "        print(\"Hello, I'm a student.\")\n",
    "\n",
    "class PersonFactory:\n",
    "    @staticmethod\n",
    "    def create_person(role: str) -> Person:\n",
    "        if role == \"teacher\":\n",
    "            return Teacher()\n",
    "        elif role == \"student\":\n",
    "            return Student()\n",
    "        else:\n",
    "            raise ValueError(f\"Unknown role: {role}\")\n",
    "\n",
    "# Usage:\n",
    "person1 = PersonFactory.create_person(\"teacher\")\n",
    "person2 = PersonFactory.create_person(\"student\")\n",
    "person1.speak()  # Output: Hello, I'm a teacher.\n",
    "person2.speak()  # Output: Hello, I'm a student.\n"
   ]
  },
  {
   "cell_type": "markdown",
   "metadata": {},
   "source": [
    "#### 1.3 Abstract Factory\n",
    "Purpose: Provide an interface for creating families of related or dependent objects without specifying their concrete classes.\n",
    "\n",
    "Example (Creating families of Persons with different attributes):\n"
   ]
  },
  {
   "cell_type": "code",
   "execution_count": null,
   "metadata": {},
   "outputs": [],
   "source": [
    "from abc import ABC, abstractmethod\n",
    "\n",
    "# Abstract products\n",
    "class Person(ABC):\n",
    "    @abstractmethod\n",
    "    def speak(self):\n",
    "        pass\n",
    "\n",
    "class Educator(Person):\n",
    "    def speak(self):\n",
    "        print(\"Hello, I'm an educator.\")\n",
    "\n",
    "class Learner(Person):\n",
    "    def speak(self):\n",
    "        print(\"Hello, I'm a learner.\")\n",
    "\n",
    "# Abstract factory\n",
    "class PersonFamilyFactory(ABC):\n",
    "    @abstractmethod\n",
    "    def create_person(self) -> Person:\n",
    "        pass\n",
    "\n",
    "# Concrete factories\n",
    "class TeacherFactory(PersonFamilyFactory):\n",
    "    def create_person(self) -> Person:\n",
    "        return Educator()\n",
    "\n",
    "class StudentFactory(PersonFamilyFactory):\n",
    "    def create_person(self) -> Person:\n",
    "        return Learner()\n",
    "\n",
    "# Usage:\n",
    "def create_and_introduce(factory: PersonFamilyFactory):\n",
    "    person = factory.create_person()\n",
    "    person.speak()\n",
    "\n",
    "create_and_introduce(TeacherFactory())  # Output: Hello, I'm an educator.\n",
    "create_and_introduce(StudentFactory())  # Output: Hello, I'm a learner.\n"
   ]
  },
  {
   "cell_type": "markdown",
   "metadata": {},
   "source": [
    "#### 1.4 Builder\n",
    "Purpose: Separate the construction of a complex object from its representation, allowing the same construction process to create different representations.\n",
    "\n",
    "Example (Building a detailed Person profile):"
   ]
  },
  {
   "cell_type": "code",
   "execution_count": 9,
   "metadata": {},
   "outputs": [
    {
     "name": "stdout",
     "output_type": "stream",
     "text": [
      "Person(name=Toto, age=30, profession=Teacher)\n"
     ]
    }
   ],
   "source": [
    "class Person:\n",
    "    def __init__(self):\n",
    "        self.name = None\n",
    "        self.age = None\n",
    "        self.profession = None\n",
    "\n",
    "    def __str__(self):\n",
    "        return f\"Person(name={self.name}, age={self.age}, profession={self.profession})\"\n",
    "\n",
    "class PersonBuilder:\n",
    "    def __init__(self, person):\n",
    "        self.person = person\n",
    "\n",
    "    def set_name(self, name: str):\n",
    "        self.person.name = name\n",
    "        return self\n",
    "\n",
    "    def set_age(self, age: int):\n",
    "        self.person.age = age\n",
    "        return self\n",
    "\n",
    "    def set_profession(self, profession: str):\n",
    "        self.person.profession = profession\n",
    "        return self\n",
    "\n",
    "    def build(self) -> Person:\n",
    "        return self.person\n",
    "\n",
    "# Usage:\n",
    "builder = PersonBuilder(Person())\n",
    "person = builder.set_name(\"Toto\").set_age(30).set_profession(\"Teacher\").build()\n",
    "print(person)  # Output: Person(name=Toto, age=30, profession=Teacher)\n"
   ]
  },
  {
   "cell_type": "markdown",
   "metadata": {},
   "source": [
    "#### 1.5 Prototype\t\n",
    "Creates new objects by copying an existing object.\n",
    "Purpose: Specify the kinds of objects to create using a prototypical instance, and create new objects by copying this prototype.\n",
    "\n",
    "Example (Cloning a Person):"
   ]
  },
  {
   "cell_type": "code",
   "execution_count": null,
   "metadata": {},
   "outputs": [],
   "source": [
    "import copy\n",
    "\n",
    "class Person:\n",
    "    def __init__(self, name, age):\n",
    "        self.name = name\n",
    "        self.age = age\n",
    "\n",
    "    def clone(self):\n",
    "        return copy.deepcopy(self)\n",
    "\n",
    "    def speak(self):\n",
    "        print(f\"Hello, I'm {self.name} and I'm {self.age} years old.\")\n",
    "\n",
    "# Usage:\n",
    "original = Person(\"Toto\", 30)\n",
    "clone_person = original.clone()\n",
    "clone_person.name = \"Titi\"  # Modify clone separately\n",
    "original.speak()  # Output: Hello, I'm Toto and I'm 30 years old.\n",
    "clone_person.speak()  # Output: Hello, I'm Titi and I'm 30 years old.\n"
   ]
  },
  {
   "cell_type": "markdown",
   "metadata": {},
   "source": [
    "## 🎯 2. Structural Patterns (Class/Object Composition)\n",
    "### Pattern\tDescription\n",
    "*Deal with object composition and relationships to form larger structures while keeping them flexible and efficient.*  \n",
    "  - **Key Idea:** Organize classes and objects into larger, well-structured systems.\n"
   ]
  },
  {
   "cell_type": "markdown",
   "metadata": {},
   "source": [
    "#### 2.1 Adapter\n",
    "Purpose: Convert the interface of a class into another interface clients expect. Adapter lets classes work together that couldn’t otherwise because of incompatible interfaces.\n",
    "\n",
    "Example (Adapting a Person to a different communication interface):"
   ]
  },
  {
   "cell_type": "code",
   "execution_count": 10,
   "metadata": {},
   "outputs": [
    {
     "name": "stdout",
     "output_type": "stream",
     "text": [
      "Hello, I'm a person.\n"
     ]
    }
   ],
   "source": [
    "# Existing class with a speak method\n",
    "class Person:\n",
    "    def speak(self):\n",
    "        print(\"Hello, I'm a person.\")\n",
    "\n",
    "# A target interface expecting a 'communicate' method\n",
    "class Communicator:\n",
    "    def communicate(self):\n",
    "        pass\n",
    "\n",
    "# Adapter: Wraps a Person to provide a communicate method.\n",
    "class PersonAdapter(Communicator):\n",
    "    def __init__(self, person: Person):\n",
    "        self.person = person\n",
    "\n",
    "    def communicate(self):\n",
    "        self.person.speak()\n",
    "\n",
    "# Usage:\n",
    "toto = Person()\n",
    "adapter = PersonAdapter(toto)\n",
    "adapter.communicate()  # Output: Hello, I'm a person.\n"
   ]
  },
  {
   "cell_type": "markdown",
   "metadata": {},
   "source": [
    "#### 1.2 Bridge\n",
    "Purpose: Separate an object’s abstraction from its implementation so that the two can vary independently.\n",
    "\n",
    "Example (Decoupling Person's communication from the medium used):"
   ]
  },
  {
   "cell_type": "code",
   "execution_count": 11,
   "metadata": {},
   "outputs": [
    {
     "name": "stdout",
     "output_type": "stream",
     "text": [
      "Sending email with message: Toto says: Hello!\n",
      "Sending SMS with message: Titi says: Hi!\n"
     ]
    }
   ],
   "source": [
    "from abc import ABC, abstractmethod\n",
    "\n",
    "# Implementor interface\n",
    "class Communication(ABC):\n",
    "    @abstractmethod\n",
    "    def send(self, message: str):\n",
    "        pass\n",
    "\n",
    "class EmailCommunication(Communication):\n",
    "    def send(self, message: str):\n",
    "        print(f\"Sending email with message: {message}\")\n",
    "\n",
    "class SMSCommunication(Communication):\n",
    "    def send(self, message: str):\n",
    "        print(f\"Sending SMS with message: {message}\")\n",
    "\n",
    "# Abstraction\n",
    "class Person:\n",
    "    def __init__(self, name: str, communication: Communication):\n",
    "        self.name = name\n",
    "        self.communication = communication\n",
    "\n",
    "    def send_message(self, message: str):\n",
    "        self.communication.send(f\"{self.name} says: {message}\")\n",
    "\n",
    "# Usage:\n",
    "toto = Person(\"Toto\", EmailCommunication())\n",
    "titi = Person(\"Titi\", SMSCommunication())\n",
    "toto.send_message(\"Hello!\")  # Output: Sending email with message: Toto says: Hello!\n",
    "titi.send_message(\"Hi!\")       # Output: Sending SMS with message: Titi says: Hi!\n"
   ]
  },
  {
   "cell_type": "markdown",
   "metadata": {},
   "source": [
    "#### 1.3 Composite\n",
    "Purpose: Compose objects into tree structures to represent part-whole hierarchies. Composite lets clients treat individual objects and compositions uniformly.\n",
    "\n",
    "Example (Group of Persons forming a Team):"
   ]
  },
  {
   "cell_type": "code",
   "execution_count": null,
   "metadata": {},
   "outputs": [],
   "source": [
    "class PersonComponent:\n",
    "    def speak(self):\n",
    "        raise NotImplementedError\n",
    "\n",
    "class PersonLeaf(PersonComponent):\n",
    "    def __init__(self, name):\n",
    "        self.name = name\n",
    "\n",
    "    def speak(self):\n",
    "        print(f\"Hi, I'm {self.name}.\")\n",
    "\n",
    "class Team(PersonComponent):\n",
    "    def __init__(self):\n",
    "        self.members = []\n",
    "\n",
    "    def add(self, person: PersonComponent):\n",
    "        self.members.append(person)\n",
    "\n",
    "    def speak(self):\n",
    "        for member in self.members:\n",
    "            member.speak()\n",
    "\n",
    "# Usage:\n",
    "toto = PersonLeaf(\"Toto\")\n",
    "titi = PersonLeaf(\"Titi\")\n",
    "team = Team()\n",
    "team.add(toto)\n",
    "team.add(titi)\n",
    "team.speak()\n",
    "# Output:\n",
    "# Hi, I'm Toto.\n",
    "# Hi, I'm Titi.\n"
   ]
  },
  {
   "cell_type": "markdown",
   "metadata": {},
   "source": [
    "#### 1.4 Decorator\n",
    "Purpose: Attach additional responsibilities to an object dynamically. Decorators provide a flexible alternative to subclassing for extending functionality.\n",
    "\n",
    "Example (Adding a title to a Person’s introduction):"
   ]
  },
  {
   "cell_type": "code",
   "execution_count": null,
   "metadata": {},
   "outputs": [],
   "source": [
    "class Person:\n",
    "    def __init__(self, name):\n",
    "        self.name = name\n",
    "\n",
    "    def introduce(self):\n",
    "        print(f\"Hi, I'm {self.name}.\")\n",
    "\n",
    "# Decorator to add a title\n",
    "class PersonDecorator:\n",
    "    def __init__(self, person: Person, title: str):\n",
    "        self.person = person\n",
    "        self.title = title\n",
    "\n",
    "    def introduce(self):\n",
    "        print(f\"Hi, I'm {self.title} {self.person.name}.\")\n",
    "\n",
    "# Usage:\n",
    "toto = Person(\"Toto\")\n",
    "decorated_toto = PersonDecorator(toto, \"Dr.\")\n",
    "decorated_toto.introduce()  # Output: Hi, I'm Dr. Toto.\n"
   ]
  },
  {
   "cell_type": "markdown",
   "metadata": {},
   "source": [
    "#### 1.5 Facade\n",
    "Purpose: Provide a unified interface to a set of interfaces in a subsystem, making it easier to use.\n",
    "\n",
    "Example (A simple interface for a Person’s daily routine):"
   ]
  },
  {
   "cell_type": "code",
   "execution_count": 12,
   "metadata": {},
   "outputs": [
    {
     "name": "stdout",
     "output_type": "stream",
     "text": [
      "Waking up...\n",
      "Brushing teeth...\n",
      "Having dinner...\n",
      "Going to sleep...\n"
     ]
    }
   ],
   "source": [
    "class MorningRoutine:\n",
    "    def wake_up(self):\n",
    "        print(\"Waking up...\")\n",
    "\n",
    "    def brush_teeth(self):\n",
    "        print(\"Brushing teeth...\")\n",
    "\n",
    "class EveningRoutine:\n",
    "    def have_dinner(self):\n",
    "        print(\"Having dinner...\")\n",
    "\n",
    "    def go_to_sleep(self):\n",
    "        print(\"Going to sleep...\")\n",
    "\n",
    "# Facade that provides a simple interface for daily routines.\n",
    "class DailyRoutineFacade:\n",
    "    def __init__(self):\n",
    "        self.morning = MorningRoutine()\n",
    "        self.evening = EveningRoutine()\n",
    "\n",
    "    def start_day(self):\n",
    "        self.morning.wake_up()\n",
    "        self.morning.brush_teeth()\n",
    "\n",
    "    def end_day(self):\n",
    "        self.evening.have_dinner()\n",
    "        self.evening.go_to_sleep()\n",
    "\n",
    "# Usage:\n",
    "routine = DailyRoutineFacade()\n",
    "routine.start_day()\n",
    "# Output:\n",
    "# Waking up...\n",
    "# Brushing teeth...\n",
    "routine.end_day()\n",
    "# Output:\n",
    "# Having dinner...\n",
    "# Going to sleep...\n"
   ]
  },
  {
   "cell_type": "markdown",
   "metadata": {},
   "source": [
    "#### 1.6 Flyweight\n",
    "Purpose: Use sharing to support large numbers of fine-grained objects efficiently.\n",
    "Minimizes memory usage by sharing objects (e.g., character glyphs in a text editor).\n",
    "\n",
    "Use Case: String interning, caching UI elements.\n",
    "\n",
    "Example (Sharing common attributes among Persons):"
   ]
  },
  {
   "cell_type": "code",
   "execution_count": null,
   "metadata": {},
   "outputs": [],
   "source": [
    "class PersonFlyweight:\n",
    "    _cache = {}\n",
    "\n",
    "    def __new__(cls, shared_state):\n",
    "        if shared_state in cls._cache:\n",
    "            return cls._cache[shared_state]\n",
    "        instance = super().__new__(cls)\n",
    "        cls._cache[shared_state] = instance\n",
    "        return instance\n",
    "\n",
    "    def __init__(self, shared_state):\n",
    "        self.shared_state = shared_state\n",
    "\n",
    "# Shared state could be something like a location or a uniform.\n",
    "flyweight1 = PersonFlyweight(\"Toto from CityA\")\n",
    "flyweight2 = PersonFlyweight(\"Toto from CityA\")\n",
    "print(flyweight1 is flyweight2)  # Output: True\n"
   ]
  },
  {
   "cell_type": "markdown",
   "metadata": {},
   "source": [
    "#### 1.7 Proxy\n",
    "Purpose: Provide a surrogate or placeholder for another object to control access to it.\n",
    "Controls access to an object (e.g., lazy loading, caching).\n",
    "\n",
    "Example (A Person proxy that controls access to a private Person record):\n"
   ]
  },
  {
   "cell_type": "code",
   "execution_count": 13,
   "metadata": {},
   "outputs": [
    {
     "name": "stdout",
     "output_type": "stream",
     "text": [
      "Accessing details via proxy...\n",
      "Details of Toto\n"
     ]
    }
   ],
   "source": [
    "class Person:\n",
    "    def __init__(self, name):\n",
    "        self.name = name\n",
    "\n",
    "    def get_details(self):\n",
    "        return f\"Details of {self.name}\"\n",
    "\n",
    "class PersonProxy:\n",
    "    def __init__(self, person: Person):\n",
    "        self._person = person\n",
    "\n",
    "    def get_details(self):\n",
    "        # Access control: additional checks can be added here.\n",
    "        print(\"Accessing details via proxy...\")\n",
    "        return self._person.get_details()\n",
    "\n",
    "# Usage:\n",
    "toto = Person(\"Toto\")\n",
    "proxy = PersonProxy(toto)\n",
    "print(proxy.get_details())\n",
    "# Output:\n",
    "# Accessing details via proxy...\n",
    "# Details of Toto\n"
   ]
  },
  {
   "cell_type": "markdown",
   "metadata": {},
   "source": [
    "\n",
    "## 🎯 3. Behavioral Patterns (Communication Between Objects)\n",
    "### Pattern\tDescription\n",
    " *Concerned with the interaction and responsibility distribution among objects.*  \n",
    "  - **Key Idea:** Define clear communication protocols and control how objects interact to perform tasks.\n",
    "These patterns are concerned with algorithms and the assignment of responsibilities between objects."
   ]
  },
  {
   "cell_type": "markdown",
   "metadata": {},
   "source": [
    "#### 3.1 Chain of Responsibility\n",
    "Purpose: Pass a request along a chain of handlers until one of them handles it.\n",
    "\n",
    "Example (A chain for processing a person's request):"
   ]
  },
  {
   "cell_type": "code",
   "execution_count": 3,
   "metadata": {},
   "outputs": [
    {
     "name": "stdout",
     "output_type": "stream",
     "text": [
      "Person says: Hello!\n",
      "Teacher says: Good morning!\n"
     ]
    }
   ],
   "source": [
    "class Handler:\n",
    "    def __init__(self, successor=None):\n",
    "        self.successor = successor\n",
    "\n",
    "    def handle(self, request):\n",
    "        handled = self.process_request(request)\n",
    "        if not handled and self.successor:\n",
    "            self.successor.handle(request)\n",
    "\n",
    "    def process_request(self, request):\n",
    "        raise NotImplementedError\n",
    "\n",
    "class PersonHandler(Handler):\n",
    "    def process_request(self, request):\n",
    "        if request == \"greet\":\n",
    "            print(\"Person says: Hello!\")\n",
    "            return True\n",
    "        return False\n",
    "\n",
    "class TeacherHandler(Handler):\n",
    "    def process_request(self, request):\n",
    "        if request == \"greet\":\n",
    "            print(\"Teacher says: Good morning!\")\n",
    "            return True\n",
    "        return False\n",
    "\n",
    "# Chain: PersonHandler -> TeacherHandler\n",
    "handler_chain = PersonHandler(TeacherHandler())\n",
    "\n",
    "handler_chain.handle(\"greet\")\n",
    "\n",
    "handler_chain = TeacherHandler(PersonHandler())\n",
    "handler_chain.handle(\"greet\")\n",
    "# Output: Person says: Hello!\n"
   ]
  },
  {
   "cell_type": "markdown",
   "metadata": {},
   "source": [
    "#### 3.2 Command\t\n",
    "Purpose: Encapsulate a request as an object, thereby letting you parameterize clients with queues, requests, or log requests.\n",
    "\n",
    "Example (Commands for a Person's actions):"
   ]
  },
  {
   "cell_type": "code",
   "execution_count": 4,
   "metadata": {},
   "outputs": [
    {
     "name": "stdout",
     "output_type": "stream",
     "text": [
      "Toto says hello!\n"
     ]
    }
   ],
   "source": [
    "from abc import ABC, abstractmethod\n",
    "\n",
    "class Command(ABC):\n",
    "    @abstractmethod\n",
    "    def execute(self):\n",
    "        pass\n",
    "\n",
    "class SpeakCommand(Command):\n",
    "    def __init__(self, person):\n",
    "        self.person = person\n",
    "\n",
    "    def execute(self):\n",
    "        self.person.speak()\n",
    "\n",
    "class Person:\n",
    "    def __init__(self, name):\n",
    "        self.name = name\n",
    "\n",
    "    def speak(self):\n",
    "        print(f\"{self.name} says hello!\")\n",
    "\n",
    "# Usage:\n",
    "toto = Person(\"Toto\")\n",
    "command = SpeakCommand(toto)\n",
    "command.execute()  # Output: Toto says hello!\n"
   ]
  },
  {
   "cell_type": "markdown",
   "metadata": {},
   "source": [
    "#### 3.3 Interpreter\t\n",
    "Purpose: Given a language, define a representation for its grammar along with an interpreter that uses the representation to interpret sentences in the language.\n",
    "\n",
    "Example (Simple interpreter for Person actions):"
   ]
  },
  {
   "cell_type": "code",
   "execution_count": null,
   "metadata": {},
   "outputs": [],
   "source": [
    "class Expression:\n",
    "    def interpret(self, context):\n",
    "        pass\n",
    "\n",
    "class SpeakExpression(Expression):\n",
    "    def interpret(self, context):\n",
    "        return f\"{context} says hello!\"\n",
    "\n",
    "# Usage:\n",
    "expression = SpeakExpression()\n",
    "result = expression.interpret(\"Toto\")\n",
    "print(result)  # Output: Toto says hello!\n"
   ]
  },
  {
   "cell_type": "markdown",
   "metadata": {},
   "source": [
    "#### 3.4 Iterator\t\n",
    "Purpose: Provide a way to access the elements of an aggregate object sequentially without exposing its underlying representation.\n",
    "\n",
    "\n",
    "### What is an Iterator?\n",
    "\n",
    "An **iterator** is an object that:\n",
    "- Implements the `__iter__()` method, which returns the iterator object itself.\n",
    "- Implements the `__next__()` method, which returns the next item from the collection. When there are no more items, `__next__()` must raise a `StopIteration` exception.\n",
    "\n",
    "### Iterables vs. Iterators\n",
    "\n",
    "- **Iterable:** An object that can return an iterator. Examples include lists, tuples, strings, dictionaries, and even custom objects that implement an `__iter__()` method.\n",
    "- **Iterator:** An object that represents a stream of data; it produces the next value when you call `next()` on it.\n",
    "\n",
    "For example, lists are iterable. When you use a `for` loop on a list, Python internally obtains an iterator from the list using the list's `__iter__()` method and then repeatedly calls `__next__()` on that iterator.\n",
    "\n",
    "### Built-in Iteration Example (Using a List of Person Objects)\n",
    "\n",
    "Example (Iterating over a list of Persons):"
   ]
  },
  {
   "cell_type": "code",
   "execution_count": null,
   "metadata": {},
   "outputs": [],
   "source": [
    "class Person:\n",
    "    def __init__(self, name):\n",
    "        self.name = name\n",
    "\n",
    "    def speak(self):\n",
    "        print(f\"Hi, I'm {self.name}.\")\n",
    "\n",
    "# Create a collection of Person objects.\n",
    "persons = [Person(\"Toto\"), Person(\"Titi\"), Person(\"Tata\")]\n",
    "\n",
    "# Using Python's built-in iterator protocol.\n",
    "for person in persons:\n",
    "    person.speak()\n",
    "# Output:\n",
    "# Hi, I'm Toto.\n",
    "# Hi, I'm Titi.\n",
    "# Hi, I'm Tata.\n"
   ]
  },
  {
   "cell_type": "markdown",
   "metadata": {},
   "source": [
    "#### 3.5 Mediator\n",
    "Purpose: Define an object that encapsulates how a set of objects interact. Mediator promotes loose coupling by keeping objects from referring to each other explicitly.\n",
    "\n",
    "Example (A mediator coordinating communication between Persons):"
   ]
  },
  {
   "cell_type": "code",
   "execution_count": 6,
   "metadata": {},
   "outputs": [
    {
     "name": "stdout",
     "output_type": "stream",
     "text": [
      "Toto sends event: Hello everyone!\n",
      "Titi received event: Hello everyone!\n"
     ]
    }
   ],
   "source": [
    "class Mediator:\n",
    "    def notify(self, sender, event):\n",
    "        pass\n",
    "\n",
    "class PersonMediator(Mediator):\n",
    "    def __init__(self):\n",
    "        self.persons = []\n",
    "\n",
    "    def register(self, person):\n",
    "        self.persons.append(person)\n",
    "        person.mediator = self\n",
    "\n",
    "    def notify(self, sender, event):\n",
    "        for person in self.persons:\n",
    "            if person != sender:\n",
    "                person.receive(event)\n",
    "\n",
    "class Person:\n",
    "    def __init__(self, name):\n",
    "        self.name = name\n",
    "        self.mediator = None\n",
    "\n",
    "    def send(self, event):\n",
    "        print(f\"{self.name} sends event: {event}\")\n",
    "        if self.mediator:\n",
    "            self.mediator.notify(self, event)\n",
    "\n",
    "    def receive(self, event):\n",
    "        print(f\"{self.name} received event: {event}\")\n",
    "\n",
    "# Usage:\n",
    "mediator = PersonMediator()\n",
    "toto = Person(\"Toto\")\n",
    "titi = Person(\"Titi\")\n",
    "mediator.register(toto)\n",
    "mediator.register(titi)\n",
    "toto.send(\"Hello everyone!\")\n",
    "# Output:\n",
    "# Toto sends event: Hello everyone!\n",
    "# Titi received event: Hello everyone!\n"
   ]
  },
  {
   "cell_type": "markdown",
   "metadata": {},
   "source": [
    "#### 3.6 Memento\n",
    "Purpose: Capture and externalize an object's internal state so that it can be restored later, without violating encapsulation.\n",
    "Memento\tCaptures and restores an object’s previous state (Undo feature).\n",
    "\n",
    "Example (Saving and restoring a Person's state):"
   ]
  },
  {
   "cell_type": "code",
   "execution_count": 7,
   "metadata": {},
   "outputs": [
    {
     "name": "stdout",
     "output_type": "stream",
     "text": [
      "Toto is happy\n",
      "Toto is sad\n",
      "Toto is happy\n"
     ]
    }
   ],
   "source": [
    "class Person:\n",
    "    def __init__(self, name, mood):\n",
    "        self.name = name\n",
    "        self.mood = mood\n",
    "\n",
    "    def set_mood(self, mood):\n",
    "        self.mood = mood\n",
    "\n",
    "    def __str__(self):\n",
    "        return f\"{self.name} is {self.mood}\"\n",
    "\n",
    "    def create_memento(self):\n",
    "        return Memento(self.name, self.mood)\n",
    "\n",
    "    def restore(self, memento):\n",
    "        self.name, self.mood = memento.get_state()\n",
    "\n",
    "class Memento:\n",
    "    def __init__(self, name, mood):\n",
    "        self._state = (name, mood)\n",
    "\n",
    "    def get_state(self):\n",
    "        return self._state\n",
    "\n",
    "# Usage:\n",
    "toto = Person(\"Toto\", \"happy\")\n",
    "print(toto)  # Output: Toto is happy\n",
    "\n",
    "# Save state\n",
    "saved_state = toto.create_memento()\n",
    "\n",
    "# Change state\n",
    "toto.set_mood(\"sad\")\n",
    "print(toto)  # Output: Toto is sad\n",
    "\n",
    "# Restore state\n",
    "toto.restore(saved_state)\n",
    "print(toto)  # Output: Toto is happy\n"
   ]
  },
  {
   "cell_type": "markdown",
   "metadata": {},
   "source": [
    "#### 3.7 Observer (Publisher-Subscriber)\tDefines a one-to-many dependency, triggering updates automatically.\n",
    "Purpose: Define a one-to-many dependency so that when one object changes state, all its dependents are notified and updated automatically.\n",
    "Example (A news channel notifying PersonObservers):"
   ]
  },
  {
   "cell_type": "code",
   "execution_count": 8,
   "metadata": {},
   "outputs": [
    {
     "name": "stdout",
     "output_type": "stream",
     "text": [
      "Toto received: Breaking news!\n",
      "Titi received: Breaking news!\n"
     ]
    }
   ],
   "source": [
    "from abc import ABC, abstractmethod\n",
    "\n",
    "class Subject:\n",
    "    def __init__(self):\n",
    "        self._observers = []\n",
    "\n",
    "    def register(self, observer):\n",
    "        self._observers.append(observer)\n",
    "\n",
    "    def notify(self, message):\n",
    "        for observer in self._observers:\n",
    "            observer.update(message)\n",
    "\n",
    "class Observer(ABC):\n",
    "    @abstractmethod\n",
    "    def update(self, message):\n",
    "        pass\n",
    "\n",
    "class PersonObserver(Observer):\n",
    "    def __init__(self, name):\n",
    "        self.name = name\n",
    "\n",
    "    def update(self, message):\n",
    "        print(f\"{self.name} received: {message}\")\n",
    "\n",
    "class NewsChannel(Subject):\n",
    "    def broadcast(self, news):\n",
    "        self.notify(news)\n",
    "\n",
    "# Usage:\n",
    "channel = NewsChannel()\n",
    "toto = PersonObserver(\"Toto\")\n",
    "titi = PersonObserver(\"Titi\")\n",
    "channel.register(toto)\n",
    "channel.register(titi)\n",
    "channel.broadcast(\"Breaking news!\")\n",
    "# Output:\n",
    "# Toto received: Breaking news!\n",
    "# Titi received: Breaking news!\n"
   ]
  },
  {
   "cell_type": "markdown",
   "metadata": {},
   "source": [
    "#### 3.8 State\n",
    "Purpose: Allow an object to alter its behavior when its internal state changes. The object will appear to change its class.\n",
    "\n",
    "Example (A Person changing mood):"
   ]
  },
  {
   "cell_type": "code",
   "execution_count": 9,
   "metadata": {},
   "outputs": [
    {
     "name": "stdout",
     "output_type": "stream",
     "text": [
      "Toto says: I'm happy!\n",
      "Toto says: I'm sad.\n"
     ]
    }
   ],
   "source": [
    "class MoodState:\n",
    "    def express(self):\n",
    "        pass\n",
    "\n",
    "class HappyState(MoodState):\n",
    "    def express(self):\n",
    "        print(\"I'm happy!\")\n",
    "\n",
    "class SadState(MoodState):\n",
    "    def express(self):\n",
    "        print(\"I'm sad.\")\n",
    "\n",
    "class Person:\n",
    "    def __init__(self, name, state: MoodState):\n",
    "        self.name = name\n",
    "        self.state = state\n",
    "\n",
    "    def set_state(self, state: MoodState):\n",
    "        self.state = state\n",
    "\n",
    "    def express(self):\n",
    "        print(f\"{self.name} says:\", end=\" \")\n",
    "        self.state.express()\n",
    "\n",
    "# Usage:\n",
    "toto = Person(\"Toto\", HappyState())\n",
    "toto.express()  # Output: Toto says: I'm happy!\n",
    "toto.set_state(SadState())\n",
    "toto.express()  # Output: Toto says: I'm sad.\n"
   ]
  },
  {
   "cell_type": "markdown",
   "metadata": {},
   "source": [
    "#### 3.9 Strategy\n",
    "Purpose: Define a family of algorithms, encapsulate each one, and make them interchangeable. Strategy lets the algorithm vary independently from clients that use it.\n",
    "Example (Different speaking strategies for a Person):"
   ]
  },
  {
   "cell_type": "code",
   "execution_count": null,
   "metadata": {},
   "outputs": [],
   "source": [
    "from abc import ABC, abstractmethod\n",
    "\n",
    "class SpeakingStrategy(ABC):\n",
    "    @abstractmethod\n",
    "    def speak(self, name: str):\n",
    "        pass\n",
    "\n",
    "class FormalStrategy(SpeakingStrategy):\n",
    "    def speak(self, name: str):\n",
    "        print(f\"Good day, I am {name}.\")\n",
    "\n",
    "class CasualStrategy(SpeakingStrategy):\n",
    "    def speak(self, name: str):\n",
    "        print(f\"Hey, I'm {name}!\")\n",
    "\n",
    "class Person:\n",
    "    def __init__(self, name, strategy: SpeakingStrategy):\n",
    "        self.name = name\n",
    "        self.strategy = strategy\n",
    "\n",
    "    def speak(self):\n",
    "        self.strategy.speak(self.name)\n",
    "\n",
    "# Usage:\n",
    "toto = Person(\"Toto\", FormalStrategy())\n",
    "titi = Person(\"Titi\", CasualStrategy())\n",
    "toto.speak()  # Output: Good day, I am Toto.\n",
    "titi.speak()  # Output: Hey, I'm Titi!"
   ]
  },
  {
   "cell_type": "markdown",
   "metadata": {},
   "source": [
    "#### 3.10 Template Method\n",
    "Purpose: Define the skeleton of an algorithm in a method, deferring some steps to subclasses. Template Method lets subclasses redefine certain steps of an algorithm without changing its structure.\n",
    "\n",
    "Example (A Person's daily routine with overridable steps):"
   ]
  },
  {
   "cell_type": "code",
   "execution_count": 10,
   "metadata": {},
   "outputs": [
    {
     "name": "stdout",
     "output_type": "stream",
     "text": [
      "Waking up...\n",
      "Teaching classes...\n",
      "Going to sleep...\n",
      "Waking up...\n",
      "Studying and attending lectures...\n",
      "Going to sleep...\n"
     ]
    }
   ],
   "source": [
    "from abc import ABC, abstractmethod\n",
    "\n",
    "class DailyRoutine(ABC):\n",
    "    def perform_routine(self):\n",
    "        self.wake_up()\n",
    "        self.work()\n",
    "        self.sleep()\n",
    "\n",
    "    def wake_up(self):\n",
    "        print(\"Waking up...\")\n",
    "\n",
    "    @abstractmethod\n",
    "    def work(self):\n",
    "        pass\n",
    "\n",
    "    def sleep(self):\n",
    "        print(\"Going to sleep...\")\n",
    "\n",
    "class TeacherRoutine(DailyRoutine):\n",
    "    def work(self):\n",
    "        print(\"Teaching classes...\")\n",
    "\n",
    "class StudentRoutine(DailyRoutine):\n",
    "    def work(self):\n",
    "        print(\"Studying and attending lectures...\")\n",
    "\n",
    "# Usage:\n",
    "toto_routine = TeacherRoutine()\n",
    "titi_routine = StudentRoutine()\n",
    "\n",
    "toto_routine.perform_routine()\n",
    "# Output:\n",
    "# Waking up...\n",
    "# Teaching classes...\n",
    "# Going to sleep...\n",
    "\n",
    "titi_routine.perform_routine()\n",
    "# Output:\n",
    "# Waking up...\n",
    "# Studying and attending lectures...\n",
    "# Going to sleep...\n"
   ]
  },
  {
   "cell_type": "markdown",
   "metadata": {},
   "source": [
    "#### 3.11 Visitor\n",
    "Purpose: Represent an operation to be performed on the elements of an object structure. Visitor lets you define a new operation without changing the classes of the elements on which it operates.\n",
    "\n",
    "Example (Visiting Persons to perform a check):"
   ]
  },
  {
   "cell_type": "code",
   "execution_count": 11,
   "metadata": {},
   "outputs": [
    {
     "name": "stdout",
     "output_type": "stream",
     "text": [
      "Toto is an adult.\n",
      "Titi is a minor.\n"
     ]
    }
   ],
   "source": [
    "from abc import ABC, abstractmethod\n",
    "\n",
    "class Person:\n",
    "    def __init__(self, name, age):\n",
    "        self.name = name\n",
    "        self.age = age\n",
    "\n",
    "    def accept(self, visitor):\n",
    "        visitor.visit(self)\n",
    "\n",
    "class PersonVisitor(ABC):\n",
    "    @abstractmethod\n",
    "    def visit(self, person: Person):\n",
    "        pass\n",
    "\n",
    "class AgeCheckVisitor(PersonVisitor):\n",
    "    def visit(self, person: Person):\n",
    "        if person.age < 18:\n",
    "            print(f\"{person.name} is a minor.\")\n",
    "        else:\n",
    "            print(f\"{person.name} is an adult.\")\n",
    "\n",
    "# Usage:\n",
    "toto = Person(\"Toto\", 30)\n",
    "titi = Person(\"Titi\", 15)\n",
    "\n",
    "visitor = AgeCheckVisitor()\n",
    "toto.accept(visitor)  # Output: Toto is an adult.\n",
    "titi.accept(visitor)  # Output: Titi is a minor.\n"
   ]
  },
  {
   "cell_type": "markdown",
   "metadata": {},
   "source": [
    "\n",
    "### Beyond GoF: More Advanced & Rare Patterns\n",
    "The \"Gang of Four\" (GoF) patterns cover most scenarios, but real-world applications also use additional patterns, including:"
   ]
  },
  {
   "cell_type": "markdown",
   "metadata": {},
   "source": [
    "\n",
    "## Architectural Patterns (High-Level Design)\n",
    "### Pattern\tDescription\n",
    "MVC (Model-View-Controller)\tSeparates logic from UI (common in web apps like Django, Flask).\n",
    "MVVM (Model-View-ViewModel)\tEnhances MVC with better separation of concerns (e.g., used in React, Angular).\n",
    "Microservices\tBreaks monolithic applications into independent, scalable services.\n",
    "Event-Driven Architecture\tUses events as a communication backbone (e.g., message queues like Kafka).\n",
    "CQRS (Command Query Responsibility Segregation)\tSeparates read and write operations for scalability.\n"
   ]
  },
  {
   "cell_type": "markdown",
   "metadata": {},
   "source": [
    "## Concurrency & Parallelism Patterns\n",
    "### Pattern\tDescription\n",
    "Thread Pool\tManages a pool of worker threads efficiently.\n",
    "Reactor\tHandles multiple requests asynchronously (used in event loops like Node.js, Twisted).\n",
    "Actor Model\tEncapsulates state and behavior to prevent shared memory issues (used in Akka, Erlang).\n"
   ]
  },
  {
   "cell_type": "markdown",
   "metadata": {},
   "source": [
    "## Enterprise & Cloud Patterns\n",
    "### Pattern\tDescription\n",
    "Service Locator\tCentralized registry for finding services dynamically.\n",
    "Repository Pattern\tAbstraction layer between business logic and database.\n",
    "Saga Pattern\tManages long-running distributed transactions in microservices."
   ]
  },
  {
   "cell_type": "markdown",
   "metadata": {},
   "source": [
    "## Functional Design Patterns (For Python, Scala, etc.)\n",
    "### Pattern\tDescription\n",
    "Monad\tChains operations while handling side effects (e.g., error handling).\n",
    "Pipeline\tPasses data through multiple transformations (used in data processing frameworks).\n"
   ]
  }
 ],
 "metadata": {
  "kernelspec": {
   "display_name": "Python 3",
   "language": "python",
   "name": "python3"
  },
  "language_info": {
   "codemirror_mode": {
    "name": "ipython",
    "version": 3
   },
   "file_extension": ".py",
   "mimetype": "text/x-python",
   "name": "python",
   "nbconvert_exporter": "python",
   "pygments_lexer": "ipython3",
   "version": "3.10.4"
  }
 },
 "nbformat": 4,
 "nbformat_minor": 2
}
