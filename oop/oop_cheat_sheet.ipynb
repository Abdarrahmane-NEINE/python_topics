{
 "cells": [
  {
   "cell_type": "markdown",
   "id": "fbcbefb1",
   "metadata": {},
   "source": [
    "# Python OOP Cheat Sheet\n",
    "\n",
    "This cheat sheet covers the main concepts of Object-Oriented Programming (OOP) in Python, including classes, objects, inheritance, polymorphism, encapsulation, and more. Use this as a quick reference for Python OOP.\n",
    "\n",
    "---\n",
    "\n",
    "## 1. Basic Concepts\n",
    "\n",
    "### Classes and Objects\n",
    "- **Class**: A blueprint for creating objects (instances).\n",
    "- **Object**: An instance of a class.\n",
    "\n",
    "**Example:**"
   ]
  },
  {
   "cell_type": "code",
   "execution_count": null,
   "id": "05d3e908",
   "metadata": {},
   "outputs": [
    {
     "name": "stdout",
     "output_type": "stream",
     "text": [
      "Toto says hello!\n"
     ]
    }
   ],
   "source": [
    "class Person:\n",
    "    # Class attribute\n",
    "    species = \"Homo sapiens\"\n",
    "    \n",
    "    def __init__(self, name, age):\n",
    "        # Instance attributes\n",
    "        self.name = name\n",
    "        self.age = age\n",
    "\n",
    "    def speak(self):\n",
    "        print(f\"{self.name} says hello!\")\n",
    "\n",
    "# Creating an object (instance) of Person\n",
    "person1 = Person(\"Toto\", 25)\n",
    "person1.speak()  # Output: Toto says hello!"
   ]
  },
  {
   "cell_type": "markdown",
   "id": "f6f4b288",
   "metadata": {},
   "source": [
    "## 2. Constructors and Initialization\n",
    "- `__init__`: Special method called when a new object is instantiated.\n",
    "- `self`: Refers to the current instance of the class.\n",
    "\n",
    "**Example:**"
   ]
  },
  {
   "cell_type": "code",
   "execution_count": 2,
   "id": "c47a482a",
   "metadata": {},
   "outputs": [
    {
     "name": "stdout",
     "output_type": "stream",
     "text": [
      "Hi, I'm Alice and I'm 30 years old.\n"
     ]
    }
   ],
   "source": [
    "class Person:\n",
    "    def __init__(self, name, age):\n",
    "        self.name = name\n",
    "        self.age = age\n",
    "\n",
    "    def greet(self):\n",
    "        print(f\"Hi, I'm {self.name} and I'm {self.age} years old.\")\n",
    "\n",
    "person = Person(\"Toto\", 25)\n",
    "person.greet()  # Output: Hi, I'm Toto and I'm 25 years old."
   ]
  },
  {
   "cell_type": "markdown",
   "id": "1b581bb4",
   "metadata": {},
   "source": [
    "## 3. Instance, Class, and Static Methods\n",
    "\n",
    "### Instance Methods\n",
    "Operate on an instance. Must have `self` as the first parameter.\n",
    "\n",
    "**Example:**"
   ]
  },
  {
   "cell_type": "code",
   "execution_count": 3,
   "id": "03ff8bb5",
   "metadata": {},
   "outputs": [
    {
     "name": "stdout",
     "output_type": "stream",
     "text": [
      "5\n"
     ]
    }
   ],
   "source": [
    "## Instance Method Example\n",
    "class Person:\n",
    "    def __init__(self, name, age):\n",
    "        self.name = name\n",
    "        self.age = age\n",
    "\n",
    "    # Instance method using self to refer to the current object\n",
    "    def greet(self):\n",
    "        return f\"Hi, I'm {self.name} and I'm {self.age} years old.\"\n",
    "\n",
    "# Creating object instances of Person\n",
    "toto = Person(\"Toto\", 30)\n",
    "titi = Person(\"Titi\", 25)\n",
    "\n",
    "print(toto.greet())  # Output: Hi, I'm Toto and I'm 30 years old.\n",
    "print(titi.greet())    # Output: Hi, I'm Titi and I'm 25 years old."
   ]
  },
  {
   "cell_type": "markdown",
   "id": "e552f1f8",
   "metadata": {},
   "source": [
    "### Class Methods\n",
    "Operate on the class rather than instances. Use the `@classmethod` decorator. First parameter is `cls` (the class itself).\n",
    "\n",
    "**Example:**"
   ]
  },
  {
   "cell_type": "code",
   "execution_count": 23,
   "id": "87d44c09",
   "metadata": {},
   "outputs": [
    {
     "name": "stdout",
     "output_type": "stream",
     "text": [
      "2\n"
     ]
    }
   ],
   "source": [
    "class MyClass:\n",
    "    count = 0\n",
    "\n",
    "    def __init__(self):\n",
    "        MyClass.count += 1\n",
    "\n",
    "    @classmethod\n",
    "    def get_count(cls):\n",
    "        return cls.count\n",
    "\n",
    "a = MyClass()\n",
    "b = MyClass()\n",
    "print(MyClass.get_count())  # Output: 2"
   ]
  },
  {
   "cell_type": "markdown",
   "id": "1bf1b67c",
   "metadata": {},
   "source": [
    "### Static Methods\n",
    "Do not modify object or class state. Use the `@staticmethod` decorator.\n",
    "\n",
    "**Example:**"
   ]
  },
  {
   "cell_type": "code",
   "execution_count": 24,
   "id": "2e0a2be5",
   "metadata": {},
   "outputs": [
    {
     "name": "stdout",
     "output_type": "stream",
     "text": [
      "True\n",
      "False\n",
      "True\n",
      "12\n"
     ]
    }
   ],
   "source": [
    "# example 1:\n",
    "class Person:\n",
    "    def __init__(self, name, age):\n",
    "        self.name = name\n",
    "        self.age = age\n",
    "\n",
    "    @staticmethod\n",
    "    def is_adult(age):\n",
    "        return age >= 18\n",
    "\n",
    "# Using the static method directly without creating a Person instance\n",
    "print(Person.is_adult(20))  # Output: True\n",
    "print(Person.is_adult(15))  # Output: False\n",
    "\n",
    "# Alternatively, using the instance's data:\n",
    "toto = Person(\"Toto\", 30)\n",
    "print(Person.is_adult(toto.age))  # Output: True"
   ]
  },
  {
   "cell_type": "markdown",
   "id": "76971f13",
   "metadata": {},
   "source": [
    "## 4. Encapsulation\n",
    "Encapsulation: Bundling data (attributes) and methods within a single unit (class). Used to hide internal object state.\n",
    "\n",
    "### Public, Protected, and Private Members\n",
    "- **Public**: Accessible from anywhere.\n",
    "- **Protected** (`_` prefix): Intended for internal use.\n",
    "- **Private** (`__` prefix): Name mangled to prevent accidental access.\n",
    "\n",
    "**Example:**"
   ]
  },
  {
   "cell_type": "code",
   "execution_count": 10,
   "id": "77a48139",
   "metadata": {},
   "outputs": [
    {
     "name": "stdout",
     "output_type": "stream",
     "text": [
      "I am public\n",
      "I am protected\n",
      "I am private\n"
     ]
    }
   ],
   "source": [
    "class Example:\n",
    "    def __init__(self):\n",
    "        self.public = \"I am public\"\n",
    "        self._protected = \"I am protected\"\n",
    "        self.__private = \"I am private\"\n",
    "\n",
    "    def get_private(self):\n",
    "        return self.__private\n",
    "\n",
    "e = Example()\n",
    "print(e.public)       # Accessible\n",
    "print(e._protected)   # Accessible, but intended as internal\n",
    "print(e.get_private())  # Correct way to access private attribute\n",
    "# print(e.__private)   # AttributeError: 'Example' object has no attribute '__private'     "
   ]
  },
  {
   "cell_type": "markdown",
   "id": "ea471128",
   "metadata": {},
   "source": [
    "## 5. Inheritance\n",
    "Inheritance: A way to form new classes using classes that have already been defined.\n",
    "Base (or parent) class and Derived (or child) class.\n",
    "\n",
    "**Example:**"
   ]
  },
  {
   "cell_type": "code",
   "execution_count": 18,
   "id": "181f9df9",
   "metadata": {},
   "outputs": [
    {
     "name": "stdout",
     "output_type": "stream",
     "text": [
      "Hello, I'm a teacher.\n",
      "Hello, I'm a student.\n"
     ]
    }
   ],
   "source": [
    "from abc import ABC, abstractmethod\n",
    "class Person(ABC):\n",
    "    def __init__(self, name):\n",
    "        self.name = name\n",
    "    @abstractmethod\n",
    "    def speak(self):\n",
    "        pass\n",
    "\n",
    "class Teacher(Person):\n",
    "    def speak(self):\n",
    "        print(\"Hello, I'm a teacher.\")\n",
    "\n",
    "class Student(Person):\n",
    "    def speak(self):\n",
    "        print(\"Hello, I'm a student.\")\n",
    "\n",
    "toto = Teacher(\"Toto\")\n",
    "titi = Student(\"Titi\")\n",
    "\n",
    "toto.speak()  # Output: Hello, I'm a teacher.\n",
    "titi.speak()  # Output: Hello, I'm a student."
   ]
  },
  {
   "cell_type": "markdown",
   "id": "7bfcb8a9",
   "metadata": {},
   "source": [
    "## 6. Multiple Inheritance\n",
    "Multiple Inheritance: A class can inherit from more than one base class.\n",
    "Mixins: A type of multiple inheritance where classes provide additional functionality.\n",
    "\n",
    "\n",
    "The provided example demonstrates multiple inheritance by having the `Person` class inherit from both `Worker` and `Learner`. In that code, both `Worker` and `Learner` are full-fledged base classes that provide their own methods.\n",
    "\n",
    "**Example:**"
   ]
  },
  {
   "cell_type": "code",
   "execution_count": 20,
   "id": "adc991ff",
   "metadata": {},
   "outputs": [
    {
     "name": "stdout",
     "output_type": "stream",
     "text": [
      "Working!\n",
      "Studying!\n",
      "Hi, I'm a person with multiple talents!\n",
      "Working!\n",
      "Studying!\n",
      "Hi, I'm a person with multiple talents!\n"
     ]
    }
   ],
   "source": [
    "class Worker:\n",
    "    def work(self):\n",
    "        print(\"Working!\")\n",
    "\n",
    "class Learner:\n",
    "    def study(self):\n",
    "        print(\"Studying!\")\n",
    "\n",
    "class Person(Worker, Learner):\n",
    "    def introduce(self):\n",
    "        print(\"Hi, I'm a person with multiple talents!\")\n",
    "\n",
    "toto = Person()\n",
    "titi = Person()\n",
    "\n",
    "toto.work()       # Output: Working!\n",
    "toto.study()      # Output: Studying!\n",
    "toto.introduce()  # Output: Hi, I'm a person with multiple talents!\n",
    "\n",
    "titi.work()       # Output: Working!\n",
    "titi.study()      # Output: Studying!\n",
    "titi.introduce()  # Output: Hi, I'm a person with multiple talents!"
   ]
  },
  {
   "cell_type": "markdown",
   "id": "ccb1ce60",
   "metadata": {},
   "source": [
    "## 6.1 Multiple Inheritance and Mixins\n",
    "A **mixin** is a specific kind of base class intended solely to \"mix in\" additional behavior to a class. Mixins are usually not meant to stand on their own (i.e., you typically don't instantiate a mixin by itself) but rather to be inherited by another class to extend its functionality.\n",
    "\n",
    "### What Makes a Mixin?\n",
    "- **Single Purpose:** A mixin usually provides one specific piece of functionality.\n",
    "- **Not Standalone:** It is not meant to be instantiated on its own.\n",
    "- **Composable:** It is designed to be used together with other classes to provide additional behavior.\n",
    "\n",
    "**Example:**"
   ]
  },
  {
   "cell_type": "code",
   "execution_count": 22,
   "id": "88299712",
   "metadata": {},
   "outputs": [
    {
     "name": "stdout",
     "output_type": "stream",
     "text": [
      "Working!\n",
      "Studying!\n",
      "Hi, I'm a person with multiple talents!\n",
      "Hello, nice to meet you!\n",
      "Working!\n",
      "Studying!\n",
      "Hi, I'm a person with multiple talents!\n",
      "Hello, nice to meet you!\n"
     ]
    }
   ],
   "source": [
    "class GreetingMixin:\n",
    "    def greet(self):\n",
    "        print(\"Hello, nice to meet you!\")\n",
    "        \n",
    "class Worker:\n",
    "    def work(self):\n",
    "        print(\"Working!\")\n",
    "\n",
    "class Learner:\n",
    "    def study(self):\n",
    "        print(\"Studying!\")\n",
    "\n",
    "\n",
    "class Person(Worker, Learner):\n",
    "    def introduce(self):\n",
    "        print(\"Hi, I'm a person with multiple talents!\")\n",
    "\n",
    "# Combining the Person class with the GreetingMixin to create a richer class.\n",
    "class PersonWithGreeting(Person, GreetingMixin):\n",
    "    pass\n",
    "\n",
    "toto = PersonWithGreeting()\n",
    "titi = PersonWithGreeting()\n",
    "\n",
    "toto.work()       # Output: Working!\n",
    "toto.study()      # Output: Studying!\n",
    "toto.introduce()  # Output: Hi, I'm a person with multiple talents!\n",
    "toto.greet()      # Output: Hello, nice to meet you!\n",
    "\n",
    "titi.work()       # Output: Working!\n",
    "titi.study()      # Output: Studying!\n",
    "titi.introduce()  # Output: Hi, I'm a person with multiple talents!\n",
    "titi.greet()      # Output: Hello, nice to meet you!"
   ]
  },
  {
   "cell_type": "markdown",
   "id": "5eb057da",
   "metadata": {},
   "source": [
    "## 7. Polymorphism\n",
    "Polymorphism: The ability to use a unified interface for different data types or classes.\n",
    "\n",
    "Polymorphism is when different classes (often related by inheritance) provide different implementations of the same method.\n",
    "\n",
    "## 7.1 overriding\n",
    "\n",
    "Method overriding is when a subclass provides its own implementation of a method that is already defined in its parent class. This allows the subclass to tailor or extend the behavior of the method.\n",
    "\n",
    "### Example: Overriding the `speak` Method\n",
    "\n",
    "In this example, the `Person` class defines a generic `speak` method. The subclasses `Teacher` and `Student` override the `speak` method to provide their own specific behavior."
   ]
  },
  {
   "cell_type": "code",
   "execution_count": 9,
   "id": "30d8de32",
   "metadata": {},
   "outputs": [
    {
     "name": "stdout",
     "output_type": "stream",
     "text": [
      "Tweet\n",
      "Squawk\n"
     ]
    }
   ],
   "source": [
    "\n",
    "class Person:\n",
    "    def __init__(self, name):\n",
    "        self.name = name\n",
    "\n",
    "    def speak(self):\n",
    "        print(\"Hello, I'm a person.\")\n",
    "\n",
    "class Teacher(Person):\n",
    "    def speak(self):\n",
    "        print(\"Hello, I'm a teacher.\")\n",
    "\n",
    "class Student(Person):\n",
    "    def speak(self):\n",
    "        print(\"Hello, I'm a student.\")\n",
    "\n",
    "# Polymorphism in action: each subclass has its own version of speak()\n",
    "toto = Teacher(\"Toto\")\n",
    "titi = Student(\"Titi\")\n",
    "\n",
    "toto.speak()  # Output: Hello, I'm a teacher.\n",
    "titi.speak()  # Output: Hello, I'm a student."
   ]
  },
  {
   "cell_type": "markdown",
   "id": "521fcb84",
   "metadata": {},
   "source": [
    "## 8. Dunder (Magic) Methods\n",
    "Special methods that have double underscores before and after their names.\n",
    "They allow you to define or customize how your objects behave with built-in operations and functions\n",
    "\n",
    "## 8.1 Common ones include:\n",
    "- `__init__`: Constructor.\n",
    "- `__str__`: Informal string representation.\n",
    "- `__repr__`: Official string representation.\n",
    "- `__add__`: Overload the addition operator.\n",
    "- `__len__`: Called by `len()`.\n",
    "\n",
    "## 8.2 list of special methodes\n",
    "\n",
    "https://docs.python.org/3/reference/datamodel.html#special-method-names\n",
    "\n",
    "- **Arithmetic and Comparison Operators:**\n",
    "  - `__sub__`, `__mul__`, `__truediv__`, etc. — for overloading subtraction, multiplication, division, etc.\n",
    "  - `__eq__`, `__ne__`, `__lt__`, `__le__`, `__gt__`, `__ge__` — for overloading equality and relational operators.\n",
    "\n",
    "- **Container and Sequence Behavior:**\n",
    "  - `__getitem__`, `__setitem__`, `__delitem__` — for indexing, assignment, and deletion in container objects.\n",
    "  - `__iter__` and `__next__` — to make an object iterable.\n",
    "  - `__contains__` — to implement membership testing using the `in` operator.\n",
    "\n",
    "- **Context Management:**\n",
    "  - `__enter__` and `__exit__` — to define behavior for use with the `with` statement (context managers).\n",
    "\n",
    "- **Callable Objects:**\n",
    "  - `__call__` — allows an instance of a class to be called as a function.\n",
    "\n",
    "- **Object Creation and Destruction:**\n",
    "  - `__new__` — controls the creation of a new instance (called before `__init__`).\n",
    "  - `__del__` — a destructor method called when an object is about to be destroyed (use with caution).\n",
    "\n",
    "- **Hashing and Boolean Evaluation:**\n",
    "  - `__hash__` — to define hash behavior, making an object usable as a key in dictionaries.\n",
    "  - `__bool__` — to define the truth value of an object, used in boolean contexts.\n",
    "\n",
    "- **Formatting:**\n",
    "  - `__format__` — used by the `format()` function and f-strings for custom string formatting.\n"
   ]
  },
  {
   "cell_type": "markdown",
   "id": "c83e0d11",
   "metadata": {},
   "source": [
    "\n",
    "## 8.1.1 `__init__`: Constructor\n",
    "- **Purpose:**  \n",
    "  Initializes a new object. It sets up the instance attributes when an object is created.\n",
    "- **Example:**"
   ]
  },
  {
   "cell_type": "code",
   "execution_count": 4,
   "id": "613b8b0e",
   "metadata": {},
   "outputs": [],
   "source": [
    "class Point:\n",
    "      def __init__(self, x, y):\n",
    "          self.x = x\n",
    "          self.y = y\n",
    "\n",
    "p = Point(1, 2)"
   ]
  },
  {
   "cell_type": "markdown",
   "id": "8ee0a03a",
   "metadata": {},
   "source": [
    "## 8.1.2. __str__: Informal String Representation\n",
    "Purpose:\n",
    "Returns a user-friendly string representation of the object, which is used by the print() function and str()."
   ]
  },
  {
   "cell_type": "code",
   "execution_count": 10,
   "id": "d1586187",
   "metadata": {},
   "outputs": [
    {
     "name": "stdout",
     "output_type": "stream",
     "text": [
      "1, 2\n"
     ]
    }
   ],
   "source": [
    "class Point:\n",
    "    def __init__(self, x, y):\n",
    "        self.x = x\n",
    "        self.y = y\n",
    "\n",
    "    def __str__(self):\n",
    "        # User-friendly: Provides a simple, readable representation.\n",
    "        return f\"{self.x}, {self.y}\"\n",
    "\n",
    "p = Point(1, 2)\n",
    "print(p)  # Output: Point(1, 2)"
   ]
  },
  {
   "cell_type": "markdown",
   "id": "bf7fd276",
   "metadata": {},
   "source": [
    "## 8.1.3. __repr__: Official String Representation\n",
    "Purpose:\n",
    "Returns an “official” string representation of the object, which is helpful for debugging. Ideally, this string could be used to recreate the object.\n",
    "Example:"
   ]
  },
  {
   "cell_type": "code",
   "execution_count": 18,
   "id": "38242bf1",
   "metadata": {},
   "outputs": [
    {
     "name": "stdout",
     "output_type": "stream",
     "text": [
      "Point(x=1, y=2)\n"
     ]
    }
   ],
   "source": [
    "class Point:\n",
    "    def __init__(self, x, y):\n",
    "        self.x = x\n",
    "        self.y = y\n",
    "\n",
    "    def __repr__(self):\n",
    "        # Developer-friendly: Provides a clear, unambiguous representation,\n",
    "        return f\"Point(x={self.x}, y={self.y})\"\n",
    "\n",
    "p = Point(1, 2)\n",
    "print(repr(p))  # Output: Point(1, 2)"
   ]
  },
  {
   "cell_type": "markdown",
   "id": "8b2e4a14",
   "metadata": {},
   "source": [
    "## 8.1.4. __add__: Overloading the Addition Operator\n",
    "Purpose:\n",
    "Defines behavior for the + operator. When two objects are added, Python calls the __add__ method.\n",
    "Example:"
   ]
  },
  {
   "cell_type": "code",
   "execution_count": 8,
   "id": "22cfd75a",
   "metadata": {},
   "outputs": [
    {
     "name": "stdout",
     "output_type": "stream",
     "text": [
      "Point(4, 6)\n"
     ]
    }
   ],
   "source": [
    "class Point:\n",
    "    def __init__(self, x, y):\n",
    "        self.x = x\n",
    "        self.y = y\n",
    "\n",
    "    def __add__(self, other):\n",
    "        if isinstance(other, Point):\n",
    "            return Point(self.x + other.x, self.y + other.y)\n",
    "        return NotImplemented\n",
    "\n",
    "    def __str__(self):\n",
    "        return f\"Point({self.x}, {self.y})\"\n",
    "\n",
    "p1 = Point(1, 2)\n",
    "p2 = Point(3, 4)\n",
    "print(p1 + p2)  # Output: Point(4, 6)"
   ]
  },
  {
   "cell_type": "markdown",
   "id": "ed1d9e34",
   "metadata": {},
   "source": [
    "8.1.5. __len__: Called by len()\n",
    "Purpose:\n",
    "Returns an integer representing the length or size of the object. It’s invoked when you call len() on an instance.\n",
    "Example:"
   ]
  },
  {
   "cell_type": "code",
   "execution_count": 9,
   "id": "510f6b74",
   "metadata": {},
   "outputs": [
    {
     "name": "stdout",
     "output_type": "stream",
     "text": [
      "4\n"
     ]
    }
   ],
   "source": [
    "class CustomList:\n",
    "    def __init__(self, data):\n",
    "        self.data = data\n",
    "\n",
    "    def __len__(self):\n",
    "        return len(self.data)\n",
    "\n",
    "cl = CustomList([1, 2, 3, 4])\n",
    "print(len(cl))  # Output: 4"
   ]
  },
  {
   "cell_type": "markdown",
   "id": "47452263",
   "metadata": {},
   "source": [
    "## 8.2.1. Arithmetic and Comparison Operators\n",
    "\n",
    "### Example: Vector Class with Subtraction, Multiplication, Division, and Comparison"
   ]
  },
  {
   "cell_type": "code",
   "execution_count": 1,
   "id": "2b569529",
   "metadata": {},
   "outputs": [
    {
     "name": "stdout",
     "output_type": "stream",
     "text": [
      "Vector(2, 3)\n",
      "Vector(6, 8)\n",
      "Vector(1.5, 2.0)\n",
      "True\n",
      "True\n"
     ]
    }
   ],
   "source": [
    "class Vector:\n",
    "    def __init__(self, x, y):\n",
    "        self.x = x\n",
    "        self.y = y\n",
    "\n",
    "    def __sub__(self, other):\n",
    "        # Subtracts corresponding components of two vectors.\n",
    "        if isinstance(other, Vector):\n",
    "            return Vector(self.x - other.x, self.y - other.y)\n",
    "        return NotImplemented\n",
    "\n",
    "    def __mul__(self, scalar):\n",
    "        # Multiplies vector components by a scalar.\n",
    "        if isinstance(scalar, (int, float)):\n",
    "            return Vector(self.x * scalar, self.y * scalar)\n",
    "        return NotImplemented\n",
    "\n",
    "    def __truediv__(self, scalar):\n",
    "        # Divides vector components by a non-zero scalar.\n",
    "        if isinstance(scalar, (int, float)) and scalar != 0:\n",
    "            return Vector(self.x / scalar, self.y / scalar)\n",
    "        return NotImplemented\n",
    "\n",
    "    def __eq__(self, other):\n",
    "        # Compares two vectors for equality.\n",
    "        if isinstance(other, Vector):\n",
    "            return self.x == other.x and self.y == other.y\n",
    "        return NotImplemented\n",
    "\n",
    "    def __lt__(self, other):\n",
    "        # Compares vectors based on their Euclidean norm.\n",
    "        if isinstance(other, Vector):\n",
    "            return (self.x**2 + self.y**2) < (other.x**2 + other.y**2)\n",
    "        return NotImplemented\n",
    "\n",
    "    def __str__(self):\n",
    "        return f\"Vector({self.x}, {self.y})\"\n",
    "\n",
    "# Usage:\n",
    "v1 = Vector(3, 4)  # magnitude 5\n",
    "v2 = Vector(1, 1)  # magnitude approx 1.41\n",
    "print(v1 - v2)     # Output: Vector(2, 3)\n",
    "print(v1 * 2)      # Output: Vector(6, 8)\n",
    "print(v1 / 2)      # Output: Vector(1.5, 2.0)\n",
    "print(v1 == Vector(3, 4))  # Output: True\n",
    "print(v2 < v1)     # Output: True\n"
   ]
  },
  {
   "cell_type": "markdown",
   "id": "e99269b8",
   "metadata": {},
   "source": [
    "## 2. Container and Sequence Behavior\n",
    "Example: CustomList Implementing Indexing, Iteration, and Membership Testing"
   ]
  },
  {
   "cell_type": "code",
   "execution_count": 6,
   "id": "93ade77d",
   "metadata": {},
   "outputs": [
    {
     "name": "stdout",
     "output_type": "stream",
     "text": [
      "20\n",
      "[10, 25, 30]\n",
      "[25, 30]\n",
      "True\n",
      "25\n",
      "30\n"
     ]
    }
   ],
   "source": [
    "class CustomList:\n",
    "    def __init__(self, data):\n",
    "        self.data = data\n",
    "\n",
    "    def __getitem__(self, index):\n",
    "        # Enables indexing (e.g., obj[index]).\n",
    "        return self.data[index]\n",
    "\n",
    "    def __setitem__(self, index, value):\n",
    "        # Enables assignment (e.g., obj[index] = value).\n",
    "        self.data[index] = value\n",
    "\n",
    "    def __delitem__(self, index):\n",
    "        # Enables deletion (e.g., del obj[index]).\n",
    "        del self.data[index]\n",
    "\n",
    "    def __iter__(self):\n",
    "        # Returns an iterator over the contained data.\n",
    "        return iter(self.data)\n",
    "\n",
    "    def __contains__(self, item):\n",
    "        # Implements membership test (e.g., item in obj).\n",
    "        return item in self.data\n",
    "\n",
    "    def __str__(self):\n",
    "        return str(self.data)\n",
    "\n",
    "# Usage:\n",
    "lst = CustomList([10, 20, 30])\n",
    "print(lst[1])       # Output: 20\n",
    "lst[1] = 25\n",
    "print(lst)          # Output: [10, 25, 30]\n",
    "del lst[0]\n",
    "print(lst)          # Output: [25, 30]\n",
    "print(30 in lst)    # Output: True\n",
    "for item in lst:\n",
    "    print(item)"
   ]
  },
  {
   "cell_type": "markdown",
   "id": "314560ee",
   "metadata": {},
   "source": [
    "## 3. Context Management\n",
    "Example: Timer Context Manager"
   ]
  },
  {
   "cell_type": "code",
   "execution_count": 3,
   "id": "470096d8",
   "metadata": {},
   "outputs": [
    {
     "name": "stdout",
     "output_type": "stream",
     "text": [
      "Elapsed time: 0.0597 seconds\n"
     ]
    }
   ],
   "source": [
    "import time\n",
    "\n",
    "class Timer:\n",
    "    def __enter__(self):\n",
    "        self.start = time.time()\n",
    "        return self\n",
    "\n",
    "    def __exit__(self, exc_type, exc_value, traceback):\n",
    "        # time.sleep(1)\n",
    "        self.end = time.time()\n",
    "        self.interval = self.end - self.start\n",
    "        print(f\"Elapsed time: {self.interval:.4f} seconds\")\n",
    "\n",
    "# Usage:\n",
    "with Timer():\n",
    "    sum(range(1000000))"
   ]
  },
  {
   "cell_type": "markdown",
   "id": "c136048d",
   "metadata": {},
   "source": [
    "## 4. Callable Objects\n",
    "Example: Multiplier as a Callable Object"
   ]
  },
  {
   "cell_type": "code",
   "execution_count": 10,
   "id": "b0857753",
   "metadata": {},
   "outputs": [
    {
     "name": "stdout",
     "output_type": "stream",
     "text": [
      "10\n"
     ]
    }
   ],
   "source": [
    "class Multiplier:\n",
    "    def __init__(self, factor):\n",
    "        self.factor = factor\n",
    "\n",
    "    def __call__(self, value):\n",
    "        # Allows the instance to be called like a function.\n",
    "        return self.factor * value\n",
    "\n",
    "# Usage:\n",
    "double = Multiplier(2)\n",
    "print(double(5))  # Output: 10"
   ]
  },
  {
   "cell_type": "markdown",
   "id": "d2abcb8c",
   "metadata": {},
   "source": [
    "## 5. Object Creation and Destruction\n",
    "Example: Overriding new and del"
   ]
  },
  {
   "cell_type": "code",
   "execution_count": 8,
   "id": "5680ba9e",
   "metadata": {},
   "outputs": [
    {
     "name": "stdout",
     "output_type": "stream",
     "text": [
      "Creating instance\n",
      "Initializing instance\n",
      "Instance is being destroyed\n"
     ]
    }
   ],
   "source": [
    "class MyClass:\n",
    "    def __new__(cls, *args, **kwargs):\n",
    "        print(\"Creating instance\")\n",
    "        instance = super().__new__(cls)\n",
    "        return instance\n",
    "\n",
    "    def __init__(self, value):\n",
    "        self.value = value\n",
    "        print(\"Initializing instance\")\n",
    "\n",
    "    def __del__(self):\n",
    "        print(\"Instance is being destroyed\")\n",
    "\n",
    "# Usage:\n",
    "obj = MyClass(10)\n",
    "del obj  # Triggers __del__ when the object is garbage collected."
   ]
  },
  {
   "cell_type": "markdown",
   "id": "5f9e330b",
   "metadata": {},
   "source": [
    "## 6. Hashing and Boolean Evaluation\n",
    "Example: CustomKey with hash and bool"
   ]
  },
  {
   "cell_type": "code",
   "execution_count": 9,
   "id": "70050bbe",
   "metadata": {},
   "outputs": [
    {
     "name": "stdout",
     "output_type": "stream",
     "text": [
      "69960682640088452 69960682640088452\n",
      "True\n",
      "Falsey object\n"
     ]
    }
   ],
   "source": [
    "class CustomKey:\n",
    "    def __init__(self, value):\n",
    "        self.value = value\n",
    "\n",
    "    def __hash__(self):\n",
    "        # Enables the object to be used as a key in dictionaries.\n",
    "        return hash(self.value)\n",
    "\n",
    "    def __eq__(self, other):\n",
    "        return isinstance(other, CustomKey) and self.value == other.value\n",
    "\n",
    "    def __bool__(self):\n",
    "        # Returns False if value is considered \"empty\" (e.g., 0, empty string).\n",
    "        return bool(self.value)\n",
    "\n",
    "# Usage:\n",
    "key1 = CustomKey(\"abc\")\n",
    "key2 = CustomKey(\"abc\")\n",
    "print(hash(key1), hash(key2))\n",
    "print(key1 == key2)  # Output: True\n",
    "\n",
    "ck = CustomKey(0)\n",
    "if not ck:\n",
    "    print(\"Falsey object\")  # This will print."
   ]
  },
  {
   "cell_type": "markdown",
   "id": "a072b394",
   "metadata": {},
   "source": [
    "## 7. Formatting\n",
    "Example: Currency Class with Custom format\n",
    "\n",
    "\n",
    "\n",
    "\n",
    " \n",
    "\n",
    "\n",
    " "
   ]
  },
  {
   "cell_type": "code",
   "execution_count": 2,
   "id": "1957facd",
   "metadata": {},
   "outputs": [
    {
     "name": "stdout",
     "output_type": "stream",
     "text": [
      "$1,234,567.89\n",
      "€1,234,567.89\n",
      "1234567.891\n"
     ]
    }
   ],
   "source": [
    "class Currency:\n",
    "    def __init__(self, amount):\n",
    "        self.amount = amount\n",
    "\n",
    "    def __format__(self, format_spec):\n",
    "        # Custom formatting based on the format_spec.\n",
    "        if format_spec == \"usd\":\n",
    "            return f\"${self.amount:,.2f}\"\n",
    "        elif format_spec == \"eur\":\n",
    "            return f\"€{self.amount:,.2f}\"\n",
    "        else:\n",
    "            return str(self.amount)\n",
    "\n",
    "# Usage:\n",
    "price = Currency(1234567.891)\n",
    "print(f\"{price:usd}\")  # Output: $1,234,567.89\n",
    "print(f\"{price:eur}\")  # Output: €1,234,567.89\n",
    "print(f\"{price}\")      # Default formatting."
   ]
  },
  {
   "cell_type": "markdown",
   "id": "383557a3",
   "metadata": {},
   "source": [
    "## 9. Abstraction: Abstract Classes and Interfaces\n",
    "\n",
    "Definition: Abstraction means focusing on the essential qualities of an object rather than its specific details.\n",
    "Purpose: It allows developers to work with complex systems more easily by exposing only the necessary parts and hiding implementation details. In Python, you can achieve abstraction using abstract classes and interfaces.\n",
    "\n",
    "Abstract Classes: Classes that cannot be instantiated and typically include abstract methods.\n",
    "\n",
    "Python doesn't have a built-in \"interface\" keyword like some other languages (e.g., Java). Instead, you can use abstract base classes (ABCs) from the `abc` module to achieve a similar effect. An abstract base class can declare abstract methods that must be implemented by its subclasses, effectively serving as an interface.\n",
    "\n",
    "Use the `abc` module.\n",
    "\n",
    "**Example:**"
   ]
  },
  {
   "cell_type": "code",
   "execution_count": 26,
   "id": "d902da21",
   "metadata": {},
   "outputs": [
    {
     "name": "stdout",
     "output_type": "stream",
     "text": [
      "Hello, I'm a teacher.\n",
      "Hello, I'm a student.\n"
     ]
    }
   ],
   "source": [
    "from abc import ABC, abstractmethod\n",
    "\n",
    "class Person(ABC):\n",
    "    @abstractmethod\n",
    "    def speak(self):\n",
    "        pass\n",
    "\n",
    "class Teacher(Person):\n",
    "    def speak(self):\n",
    "        print(\"Hello, I'm a teacher.\")\n",
    "\n",
    "class Student(Person):\n",
    "    def speak(self):\n",
    "        print(\"Hello, I'm a student.\")\n",
    "\n",
    "# The following line would raise an error because we cannot instantiate an abstract class:\n",
    "# person = Person()\n",
    "\n",
    "toto = Teacher()\n",
    "titi = Student()\n",
    "\n",
    "toto.speak()  # Output: Hello, I'm a teacher.\n",
    "titi.speak()  # Output: Hello, I'm a student."
   ]
  },
  {
   "cell_type": "markdown",
   "id": "00c89e9b",
   "metadata": {},
   "source": [
    "## 10. Properties\n",
    "\n",
    "Properties in Python allow you to control how attributes are accessed and modified. Instead of letting attributes be directly accessed and changed, you can define methods to \"get\" (access), \"set\" (modify), or even \"delete\" an attribute while keeping the interface simple and clean.\n",
    "\n",
    "Here's how it works:\n",
    "\n",
    "1. **Getter:** Retrieves the value of the attribute.\n",
    "2. **Setter:** Sets the value of the attribute and can include validation logic.\n",
    "3. **Deleter (optional):** Allows controlled deletion of the attribute.\n",
    "\n",
    "### Example:"
   ]
  },
  {
   "cell_type": "code",
   "execution_count": 34,
   "id": "99e73b71",
   "metadata": {},
   "outputs": [
    {
     "name": "stdout",
     "output_type": "stream",
     "text": [
      "Getting age\n",
      "25\n",
      "Setting age\n",
      "Getting age\n",
      "30\n",
      "Deleting age\n"
     ]
    }
   ],
   "source": [
    "class Person:\n",
    "    def __init__(self, name, age=0):\n",
    "        self.name = name\n",
    "        # We use a \"protected\" attribute (_age) to store the actual value.\n",
    "        self._age = age\n",
    "\n",
    "    # Getter: Called when you access person.age\n",
    "    @property\n",
    "    def age(self):\n",
    "        print(\"Getting age\")\n",
    "        return self._age\n",
    "\n",
    "    # Setter: Called when you assign a value to person.age\n",
    "    @age.setter\n",
    "    def age(self, value):\n",
    "        print(\"Setting age\")\n",
    "        if value < 0:\n",
    "            raise ValueError(\"Age cannot be negative.\")\n",
    "        self._age = value\n",
    "\n",
    "    # Optional: Deleter: Called when you use del person.age\n",
    "    @age.deleter\n",
    "    def age(self):\n",
    "        print(\"Deleting age\")\n",
    "        del self._age\n",
    "\n",
    "# Create a person instance\n",
    "toto = Person(\"Toto\", 25)\n",
    "\n",
    "# Access the age using the getter\n",
    "print(toto.age)  # Output: Getting age \\n 25\n",
    "\n",
    "# Update the age using the setter\n",
    "toto.age = 30    # Output: Setting age\n",
    "print(toto.age)  # Output: Getting age \\n 30\n",
    "\n",
    "# Attempting to set a negative age will raise an error:\n",
    "# toto.age = -5  # Would raise ValueError: Age cannot be negative.\n",
    "\n",
    "# Optionally, delete the age attribute using the deleter\n",
    "del toto.age      # Output: Deleting age\n"
   ]
  },
  {
   "cell_type": "markdown",
   "id": "ad205c77",
   "metadata": {},
   "source": [
    "## 11. Composition vs. Inheritance\n",
    "Composition: A \"has-a\" relationship where one class is used as a part of another.\n",
    "Inheritance: An \"is-a\" relationship where a class derives from another class.\n",
    "\n",
    "**Example (Composition):**"
   ]
  },
  {
   "cell_type": "code",
   "execution_count": 37,
   "id": "b94f7b97",
   "metadata": {},
   "outputs": [
    {
     "name": "stdout",
     "output_type": "stream",
     "text": [
      "Heart beating...\n",
      "Person is alive!\n"
     ]
    }
   ],
   "source": [
    "class Heart:\n",
    "    def beat(self):\n",
    "        print(\"Heart beating...\")\n",
    "\n",
    "class Person:\n",
    "    def __init__(self, heart):\n",
    "        self.heart = heart\n",
    "\n",
    "    def live(self):\n",
    "        self.heart.beat()\n",
    "        print(\"Person is alive!\")\n",
    "\n",
    "# Dependency injection: creating a Heart externally and passing it to Person.\n",
    "heart_instance = Heart()\n",
    "toto = Person(heart_instance)\n",
    "toto.live()  # Output:# Heart beating... # Person is alive!"
   ]
  },
  {
   "cell_type": "markdown",
   "id": "dce0202b",
   "metadata": {},
   "source": [
    "## 12. Method Resolution Order (MRO)\n",
    "MRO: Determines the order in which base classes are searched when executing a method.\n",
    "\n",
    "Use the `mro()` method or the `__mro__` attribute.\n",
    "\n",
    "**Example:**"
   ]
  },
  {
   "cell_type": "code",
   "execution_count": 13,
   "id": "1008c24d",
   "metadata": {},
   "outputs": [
    {
     "name": "stdout",
     "output_type": "stream",
     "text": [
      "[<class '__main__.D'>, <class '__main__.B'>, <class '__main__.C'>, <class '__main__.A'>, <class 'object'>]\n"
     ]
    }
   ],
   "source": [
    "class A:\n",
    "    pass\n",
    "\n",
    "class B(A):\n",
    "    pass\n",
    "\n",
    "class C(A):\n",
    "    pass\n",
    "\n",
    "class D(B, C):\n",
    "    pass\n",
    "print(D.mro())\n",
    "# Output: [<class '__main__.D'>, <class '__main__.B'>, <class '__main__.C'>, <class '__main__.A'>, <class 'object'>]"
   ]
  },
  {
   "cell_type": "markdown",
   "id": "5cfc8dd1",
   "metadata": {},
   "source": [
    "## 13. Metaclasses\n",
    "A metaclass is a class of a class that defines how a class behaves.\n",
    "Metaclasses are commonly used for advanced patterns such as class registration or automatic attribute creation.\n",
    "The default metaclass in Python is `type`.\n",
    "\n",
    "**Example:**"
   ]
  },
  {
   "cell_type": "code",
   "execution_count": null,
   "id": "f6e0c45a",
   "metadata": {},
   "outputs": [],
   "source": [
    "# Custom metaclass that prints when a class is created\n",
    "class MyMeta(type):\n",
    "    def __new__(meta, name, bases, class_dict):\n",
    "        print(f\"Creating class {name}\")\n",
    "        return super().__new__(meta, name, bases, class_dict)\n",
    "\n",
    "class MyClass(metaclass=MyMeta):\n",
    "    pass\n",
    "\n",
    "# Output: Creating class MyClass"
   ]
  },
  {
   "cell_type": "markdown",
   "id": "029f450b",
   "metadata": {},
   "source": [
    "## 14. Best Practices\n",
    "- **Single Responsibility Principle**: Each class should have one responsibility."
   ]
  },
  {
   "cell_type": "markdown",
   "id": "072d9142",
   "metadata": {},
   "source": [
    "- **Open/Closed Principle**: Classes should be open for extension but closed for modification.\n",
    "Explanation:\n",
    "Use composition to build complex behaviors by combining simpler objects rather than inheriting functionality, unless there’s a clear “is-a” relationship."
   ]
  },
  {
   "cell_type": "markdown",
   "id": "fd0d6749",
   "metadata": {},
   "source": [
    "\n",
    "- **DRY (Don’t Repeat Yourself)**: Reuse code through inheritance or composition."
   ]
  },
  {
   "cell_type": "code",
   "execution_count": null,
   "id": "abf8732b",
   "metadata": {},
   "outputs": [],
   "source": [
    "# bad example\n",
    "def calculate_area_circle(radius):\n",
    "    return 3.14159 * radius * radius\n",
    "def calculate_area_ellipse(a, b):\n",
    "    return 3.14159 * a * b  # 3.14159 is repeated\n",
    "\n",
    "# Good Example:\n",
    "# Defining a constant once and reusing it across functions:\n",
    "PI = 3.14159\n",
    "def calculate_area_circle(radius):\n",
    "    return PI * radius * radius\n",
    "def calculate_area_ellipse(a, b):\n",
    "    return PI * a * b"
   ]
  },
  {
   "cell_type": "markdown",
   "id": "b64f8e8f",
   "metadata": {},
   "source": [
    "\n",
    "- **Favor Composition Over Inheritance**: Use inheritance only when there is a clear \"is-a\" relationship."
   ]
  },
  {
   "cell_type": "code",
   "execution_count": 2,
   "id": "800c9fc6",
   "metadata": {},
   "outputs": [],
   "source": [
    "# Bad Example:\n",
    "# Using inheritance to reuse code when the relationship isn’t a true “is-a”:\n",
    "class Engine:\n",
    "    def start(self):\n",
    "        print(\"Engine starting.\")\n",
    "\n",
    "class Car(Engine):  # A Car is not an Engine; it just uses one.\n",
    "    def drive(self):\n",
    "        print(\"Car driving.\")\n",
    "# Good Example:\n",
    "# Using composition to include an engine in a car:\n",
    "class Engine:\n",
    "    def start(self):\n",
    "        print(\"Engine starting.\")\n",
    "\n",
    "class Car:\n",
    "    def __init__(self):\n",
    "        self.engine = Engine()\n",
    "    \n",
    "    def drive(self):\n",
    "        self.engine.start()\n",
    "        print(\"Car driving.\")"
   ]
  },
  {
   "cell_type": "markdown",
   "id": "8414b36a",
   "metadata": {},
   "source": [
    "\n",
    "- **Explicit is Better Than Implicit**: Clear code is easier to maintain and debug.\n",
    "Consider a function designed to calculate the area of a circle. An explicit version might look like this:"
   ]
  },
  {
   "cell_type": "code",
   "execution_count": null,
   "id": "5ec474f0",
   "metadata": {},
   "outputs": [],
   "source": [
    "def calculate_circle_area(radius: float) -> float:\n",
    "    \"\"\"Calculate the area of a circle given its radius.\"\"\"\n",
    "    pi = 3.14159\n",
    "    return pi * (radius ** 2)\n",
    "# In contrast, a more implicit version might be:\n",
    "def area(r):\n",
    "    return 3.14 * r * r\n"
   ]
  },
  {
   "cell_type": "markdown",
   "id": "c8f9688c",
   "metadata": {},
   "source": [
    "### 15.1 Duck Typing\n",
    "Python follows duck typing; if an object implements the required methods, it can be used in place of another.\n",
    "\n",
    "Duck typing is about using an object's methods or properties without needing to know its exact type. As long as an object implements the required behavior, it can be used in a function regardless of its class."
   ]
  },
  {
   "cell_type": "code",
   "execution_count": 19,
   "id": "b3e632c7",
   "metadata": {},
   "outputs": [
    {
     "name": "stdout",
     "output_type": "stream",
     "text": [
      "Hello, I'm a teacher.\n",
      "Hello, I'm a person.\n",
      "Beep boop, I'm a robot.\n"
     ]
    }
   ],
   "source": [
    "class Person:\n",
    "    def speak(self):\n",
    "        print(\"Hello, I'm a person.\")\n",
    "\n",
    "class Teacher:\n",
    "    def speak(self):\n",
    "        print(\"Hello, I'm a teacher.\")\n",
    "\n",
    "class Robot:\n",
    "    def speak(self):\n",
    "        print(\"Beep boop, I'm a robot.\")\n",
    "\n",
    "def make_it_speak(entity):\n",
    "    # Duck typing: we don't care what type entity is,\n",
    "    # as long as it has a speak() method.\n",
    "    entity.speak()\n",
    "\n",
    "# Instances of different classes that all have a speak() method.\n",
    "toto = Teacher()\n",
    "titi = Person()\n",
    "robo = Robot()\n",
    "\n",
    "make_it_speak(toto)  # Output: Hello, I'm a teacher.\n",
    "make_it_speak(titi)  # Output: Hello, I'm a person.\n",
    "make_it_speak(robo)  # Output: Beep boop, I'm a robot."
   ]
  },
  {
   "cell_type": "markdown",
   "id": "cb280e83",
   "metadata": {},
   "source": [
    "### 15.2 Using `super()`\n",
    "In derived classes, use `super()` to call methods from the parent class.\n",
    "\n",
    "**Example:**"
   ]
  },
  {
   "cell_type": "code",
   "execution_count": 16,
   "id": "4f991699",
   "metadata": {},
   "outputs": [
    {
     "name": "stdout",
     "output_type": "stream",
     "text": [
      "Base init\n",
      "Derived init\n"
     ]
    }
   ],
   "source": [
    "class Base:\n",
    "    def __init__(self):\n",
    "        print(\"Base init\")\n",
    "\n",
    "class Derived(Base):\n",
    "    def __init__(self):\n",
    "        super().__init__()\n",
    "        print(\"Derived init\")\n",
    "\n",
    "d = Derived()\n",
    "# Output:\n",
    "# Base init\n",
    "# Derived init"
   ]
  },
  {
   "cell_type": "markdown",
   "id": "83d87c95",
   "metadata": {},
   "source": [
    "## 16 overloading\n",
    "\n",
    "Overloading refers to the ability to define multiple behaviors for operations or functions using the same operator or method name. \n",
    "In many languages, you might see function or method overloading where multiple methods with the same name but different parameters are defined. However, Python does not support traditional method overloading (i.e., multiple definitions of a method with different signatures) out of the box.\n",
    "\n",
    "### Operator Overloading\n",
    "\n",
    "In Python, you can overload operators by defining special (dunder) methods in your class. This allows you to customize the behavior of built-in operators (like `+`, `-`, etc.) when they are used with your objects.\n",
    "\n",
    "#### Example: Overloading Comparison Operators\n",
    "\n",
    "We want to compare persons by their age. Two persons are considered equal if they have the same age, and one is considered \"less than\" another if their age is lower.\n"
   ]
  },
  {
   "cell_type": "code",
   "execution_count": 1,
   "id": "cf27ae90",
   "metadata": {},
   "outputs": [
    {
     "name": "stdout",
     "output_type": "stream",
     "text": [
      "False\n",
      "True\n",
      "True\n"
     ]
    }
   ],
   "source": [
    "class Person:\n",
    "    def __init__(self, name, age):\n",
    "        self.name = name\n",
    "        self.age = age\n",
    "\n",
    "    # Overload equality operator\n",
    "    def __eq__(self, other):\n",
    "        if isinstance(other, Person):\n",
    "            return self.age == other.age\n",
    "        return NotImplemented\n",
    "\n",
    "    # Overload less-than operator\n",
    "    def __lt__(self, other):\n",
    "        if isinstance(other, Person):\n",
    "            return self.age < other.age\n",
    "        return NotImplemented\n",
    "\n",
    "    def __str__(self):\n",
    "        return f\"Person({self.name}, {self.age})\"\n",
    "\n",
    "toto = Person(\"Toto\", 30)\n",
    "titi = Person(\"Titi\", 40)\n",
    "another_toto = Person(\"Another Toto\", 30)\n",
    "\n",
    "print(toto == titi)         # Output: False (because 30 is not equal to 40)\n",
    "print(toto == another_toto) # Output: True (both are 30 years old)\n",
    "print(toto < titi)          # Output: True (30 is less than 40)"
   ]
  },
  {
   "cell_type": "markdown",
   "id": "64249386",
   "metadata": {},
   "source": [
    "## 17 Inner Classes\n",
    "\n",
    "Inner classes (or nested classes) are classes defined within another class. They are used to logically group classes that are closely related and are not meant to stand alone. This can help encapsulate helper classes that are only relevant in the context of the outer class.\n",
    "\n",
    "### Example: Person with an Inner Address Class\n",
    "\n",
    "In this example, the `Person` class has an inner class `Address` that represents the person's address. The inner class is used only by `Person` and is not intended for general use outside the context of a `Person`.\n"
   ]
  },
  {
   "cell_type": "code",
   "execution_count": null,
   "id": "9904a546",
   "metadata": {},
   "outputs": [
    {
     "name": "stdout",
     "output_type": "stream",
     "text": [
      "Hi, I'm Toto, 30 years old, and I live at 123 Main St, Anytown.\n"
     ]
    }
   ],
   "source": [
    "class Person:\n",
    "    def __init__(self, name, age, street, city):\n",
    "        self.name = name\n",
    "        self.age = age\n",
    "        # Create an instance of the inner Address class\n",
    "        self.address = Person.Address(street, city)\n",
    "\n",
    "    def introduce(self):\n",
    "        print(f\"Hi, I'm {self.name}, {self.age} years old, and I live at {self.address}.\")\n",
    "\n",
    "    # Inner class for Address\n",
    "    class Address:\n",
    "        def __init__(self, street, city):\n",
    "            self.street = street\n",
    "            self.city = city\n",
    "            \n",
    "        def __str__(self):\n",
    "            return f\"{self.street}, {self.city}\"\n",
    "\n",
    "# Create a Person instance with an inner Address\n",
    "toto = Person(\"Toto\", 30, \"123 Main St\", \"Anytown\")\n",
    "toto.introduce()\n",
    "# Output: Hi, I'm Toto, 30 years old, and I live at 123 Main St, Anytown.\n"
   ]
  },
  {
   "cell_type": "markdown",
   "id": "f1e5c2c3",
   "metadata": {},
   "source": [
    "## 18 Data Classes\n",
    "\n",
    "Data classes in Python provide a simple way to create classes that are mainly used for storing data. The `@dataclass` decorator automatically generates common special methods like `__init__`, `__repr__`, and `__eq__` for you, reducing boilerplate code.\n",
    "\n",
    "### Key Points About Data Classes\n",
    "\n",
    "- **Automatic `__init__` Generation:**  \n",
    "  When you define a data class, you don't need to manually write an initializer. The `@dataclass` decorator reads your type-annotated fields and creates an `__init__` method that assigns those fields to the instance.\n",
    "\n",
    "- **Readable String Representation:**  \n",
    "  A nice `__repr__` method is generated so that when you print an instance, it shows the field names and values in a clear format.\n",
    "\n",
    "- **Equality Checking:**  \n",
    "  The `__eq__` method is automatically provided, which allows you to compare two instances of your data class based on their field values.\n",
    "\n",
    "- **Type Annotations:**  \n",
    "  Type annotations help document your code and allow static type checkers (like mypy) and IDEs to give you better support.\n",
    "\n",
    "### Example: A Basic Data Class for Person\n",
    "\n",
    "Below is an example of a mutable data class for a `Person` that stores a name and an age:\n"
   ]
  },
  {
   "cell_type": "code",
   "execution_count": null,
   "id": "7714e3fd",
   "metadata": {},
   "outputs": [],
   "source": [
    "\n",
    "from dataclasses import dataclass\n",
    "\n",
    "@dataclass\n",
    "class Person:\n",
    "    name: str   # The person's name, expected to be a string\n",
    "    age: int    # The person's age, expected to be an integer\n",
    "\n",
    "# The dataclass automatically generates an __init__ method like:\n",
    "# def __init__(self, name: str, age: int):\n",
    "#     self.name = name\n",
    "#     self.age = age\n",
    "\n",
    "toto = Person(\"Toto\", 30)\n",
    "print(toto)  # Output: Person(name='Toto', age=30)\n",
    "\n",
    "# Comparing two Person instances is also straightforward:\n",
    "titi = Person(\"Titi\", 25)\n",
    "another_toto = Person(\"Toto\", 30)\n",
    "print(toto == another_toto)  # Output: True (same data)\n",
    "print(toto == titi)          # Output: False (different data)\n"
   ]
  },
  {
   "cell_type": "markdown",
   "id": "960f5f6a",
   "metadata": {},
   "source": [
    "### 18.1 immutability\n",
    "\n",
    "Immutability means that once an object is created, its state cannot be changed. In Python, many built-in types like strings, tuples, and frozensets are immutable. When designing your own classes, you might choose immutability to ensure that an object's state remains constant after creation, which can be useful for consistency and thread-safety.\n",
    "\n",
    "\n",
    "### Example: Creating an Immutable Person with dataclasses\n",
    "\n",
    "In this example, we use the `dataclasses` module (available in Python 3.7 and above) to define an immutable `Person` class by setting `frozen=True`. Once a `Person` is created, any attempt to modify its attributes will raise an error.\n"
   ]
  },
  {
   "cell_type": "code",
   "execution_count": null,
   "id": "de36c022",
   "metadata": {},
   "outputs": [],
   "source": [
    "from dataclasses import dataclass\n",
    "\n",
    "@dataclass(frozen=True)\n",
    "class Person:\n",
    "    name: str\n",
    "    age: int\n",
    "    \n",
    "# The __init__ method is auto-generated:\n",
    "# Equivalent to:\n",
    "# def __init__(self, name: str, age: int):\n",
    "#     self.name = name\n",
    "#     self.age = age\n",
    "\n",
    "toto = Person(\"Toto\", 30)\n",
    "print(toto)  # Output: Person(name='Toto', age=30)\n",
    "\n",
    "# Attempting to modify an attribute will raise an error:\n",
    "# toto.age = 31  # This will raise: dataclasses.FrozenInstanceError\n"
   ]
  },
  {
   "cell_type": "markdown",
   "id": "08916b6b",
   "metadata": {},
   "source": [
    "\n",
    "### Other Use Cases for Dataclasses\n",
    "\n",
    "1. **Automatic Generation of Special Methods:**\n",
    "   - Dataclasses automatically generate the `__init__`, `__repr__`, `__eq__`, and other special methods for you. This makes your code cleaner and more maintainable.\n",
    "   - Example (mutable dataclass):\n",
    "     ```python\n",
    "     from dataclasses import dataclass\n",
    "\n",
    "     @dataclass\n",
    "     class Person:\n",
    "         name: str\n",
    "         age: int\n",
    "\n",
    "     toto = Person(\"Toto\", 30)\n",
    "     print(toto)  # Output: Person(name='Toto', age=30)\n",
    "     ```\n",
    "     Here, you get a nice string representation and an initializer without having to write them manually.\n",
    "\n",
    "2. **Mutable vs. Immutable Data Structures:**\n",
    "   - By default, dataclasses are mutable. If you need to ensure that objects do not change after creation, you can set `frozen=True` to make them immutable.\n",
    "   - This flexibility allows you to choose the behavior that fits your use case.\n",
    "  \n",
    "3. **Default Values and Field Customization:**\n",
    "   - You can provide default values for fields and even use the `field()` function for more advanced customization (such as specifying default factories or excluding fields from certain operations).\n",
    "     ```python\n",
    "     from dataclasses import dataclass, field\n",
    "\n",
    "     @dataclass\n",
    "     class Person:\n",
    "         name: str\n",
    "         age: int = 30\n",
    "         hobbies: list = field(default_factory=list)\n",
    "\n",
    "     toto = Person(\"Toto\")\n",
    "     print(toto)  # Output: Person(name='Toto', age=30, hobbies=[])\n",
    "     ```\n",
    "\n",
    "4. **Comparisons and Ordering:**\n",
    "   - Dataclasses can automatically implement comparison methods like `__eq__` and, if you set `order=True`, also comparison operators like `<`, `>`, etc.\n",
    "     ```python\n",
    "     from dataclasses import dataclass\n",
    "\n",
    "     @dataclass(order=True)\n",
    "     class Person:\n",
    "         name: str\n",
    "         age: int\n",
    "\n",
    "     toto = Person(\"Toto\", 30)\n",
    "     titi = Person(\"Titi\", 25)\n",
    "     print(toto > titi)  # Output: True, if age is the primary order criterion\n",
    "     ```\n",
    "\n",
    "5. **Integration with Other Libraries:**\n",
    "   - Dataclasses integrate well with libraries that benefit from well-defined, structured data objects (e.g., serialization libraries, ORMs, etc.).\n",
    "\n",
    "### Summary\n",
    "\n",
    "- **Not Just for Immutability:**  \n",
    "  While setting `frozen=True` provides immutability, dataclasses are primarily about reducing boilerplate code in classes that are mainly used for storing data.\n",
    "\n",
    "- **Flexible and Powerful:**  \n",
    "  You can create mutable or immutable data objects, define default values, customize field behavior, and automatically generate useful special methods.\n",
    "\n",
    "In short, dataclasses offer a versatile and efficient way to create data containers in Python, whether you need mutable objects, immutable objects, or just a clean way to implement common functionality.\n"
   ]
  },
  {
   "cell_type": "markdown",
   "id": "6772a227",
   "metadata": {},
   "source": [
    "## 19 Named Tuples\n"
   ]
  },
  {
   "cell_type": "markdown",
   "id": "9f28b3e4",
   "metadata": {},
   "source": [
    "## 21 Mixing OOP with Functional Programming Concepts\n"
   ]
  },
  {
   "cell_type": "markdown",
   "id": "9c0644d4",
   "metadata": {},
   "source": [
    "## 22 Context Managers\n",
    "Implementing __enter__ and __exit__\n",
    "Creating reusable context managers\n",
    "The @contextmanager decorator\n",
    "\n"
   ]
  },
  {
   "cell_type": "markdown",
   "id": "705a4ff8",
   "metadata": {},
   "source": [
    "## 23 Descriptors\n",
    "\n",
    "Implementing __get__, __set__, and __delete__\n",
    "Non-data vs data descriptors\n",
    "Real-world use cases (e.g., type validation)"
   ]
  },
  {
   "cell_type": "markdown",
   "id": "4690997e",
   "metadata": {},
   "source": [
    "## 24 Class Decorators\n",
    "\n",
    "Writing custom class decorators\n",
    "Common use cases (e.g., singleton pattern)\n",
    "Combining with method decorators"
   ]
  },
  {
   "cell_type": "markdown",
   "id": "ad26c769",
   "metadata": {},
   "source": [
    "## 25 Object Serialization\n",
    "\n",
    "Implementing __getstate__ and __setstate__\n",
    "Pickle protocol\n",
    "Custom serialization methods"
   ]
  },
  {
   "cell_type": "markdown",
   "id": "7dc6e478",
   "metadata": {},
   "source": [
    "## 26 Memory Management\n",
    "\n",
    "Reference counting\n",
    "Weak references (weakref module)\n",
    "Garbage collection and __del__"
   ]
  },
  {
   "cell_type": "markdown",
   "id": "7b649776",
   "metadata": {},
   "source": [
    "## 27 Type Hints in OOP\n",
    "\n",
    "Class type annotations\n",
    "Generics and TypeVar\n",
    "Protocol classes for structural subtyping"
   ]
  },
  {
   "cell_type": "markdown",
   "id": "987a716c",
   "metadata": {},
   "source": [
    "## 28 Exception Hierarchies\n",
    "\n",
    "Creating custom exception classes\n",
    "Exception chaining\n",
    "Context-specific exceptions"
   ]
  },
  {
   "cell_type": "markdown",
   "id": "6b320596",
   "metadata": {},
   "source": [
    "## 29 Debugging & Introspection Tools\n",
    "\n",
    "\n",
    "- **dir()**\n",
    "  - **What It Does:**  \n",
    "    Returns a list of valid attributes and methods of an object.\n",
    "  - **Why It's Useful:**  \n",
    "    Quickly see what properties and methods are available for a given object.\n",
    "\n",
    "- **vars()**\n",
    "  - **What It Does:**  \n",
    "    Returns the `__dict__` attribute of an object, which is its attribute dictionary.\n",
    "  - **Why It's Useful:**  \n",
    "    Inspect the current state of an object by viewing its attributes and their values.\n",
    "\n",
    "- **type()**\n",
    "  - **What It Does:**  \n",
    "    Returns the type of an object.\n",
    "  - **Why It's Useful:**  \n",
    "    Confirm the class or type of an object during debugging.\n",
    "\n",
    "- **id()**\n",
    "  - **What It Does:**  \n",
    "    Returns a unique identifier (memory address) for an object.\n",
    "  - **Why It's Useful:**  \n",
    "    Helps in distinguishing between different objects, even if they appear similar.\n",
    "\n",
    "- **inspect Module**\n",
    "  - **What It Does:**  \n",
    "    Provides several functions to retrieve information about live objects, including functions like `inspect.getmembers()`, `inspect.getdoc()`, and `inspect.signature()`.\n",
    "  - **Why It's Useful:**  \n",
    "    Offers in-depth introspection capabilities to examine object attributes, method signatures, and documentation.\n",
    "\n",
    "- **pdb (Python Debugger)**\n",
    "  - **What It Does:**  \n",
    "    Allows interactive debugging of Python code.\n",
    "  - **Why It's Useful:**  \n",
    "    Step through your code, set breakpoints, and inspect variable states during runtime to diagnose issues.\n",
    "\n",
    "- **traceback Module**\n",
    "  - **What It Does:**  \n",
    "    Provides utilities to extract, format, and print stack traces.\n",
    "  - **Why It's Useful:**  \n",
    "    Helps understand the context of exceptions and debug errors effectively.\n"
   ]
  },
  {
   "cell_type": "markdown",
   "id": "89576a95",
   "metadata": {},
   "source": [
    "## 30 Class Composition Patterns\n",
    "\n",
    "Dependency inversion\n",
    "Inversion of control containers\n",
    "Service locator pattern"
   ]
  }
 ],
 "metadata": {
  "kernelspec": {
   "display_name": "Python 3",
   "language": "python",
   "name": "python3"
  },
  "language_info": {
   "codemirror_mode": {
    "name": "ipython",
    "version": 3
   },
   "file_extension": ".py",
   "mimetype": "text/x-python",
   "name": "python",
   "nbconvert_exporter": "python",
   "pygments_lexer": "ipython3",
   "version": "3.9.20"
  }
 },
 "nbformat": 4,
 "nbformat_minor": 5
}
