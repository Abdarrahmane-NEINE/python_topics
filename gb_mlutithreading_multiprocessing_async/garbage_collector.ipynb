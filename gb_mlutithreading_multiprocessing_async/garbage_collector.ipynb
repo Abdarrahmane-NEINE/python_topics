{
 "cells": [
  {
   "cell_type": "markdown",
   "metadata": {},
   "source": [
    "## Garbage Collector in Python\n",
    "\n",
    "### Why?\n",
    "- **Memory Management:**  \n",
    "  Python uses a garbage collector (GC) to automatically manage memory, freeing up memory that is no longer in use.\n",
    "- **Preventing Memory Leaks:**  \n",
    "  By reclaiming memory from objects that are no longer referenced, the GC helps prevent memory leaks and reduces the risk of exhausting system resources.\n",
    "- **Simplify Development:**  \n",
    "  Developers don't need to manually manage memory, which reduces the complexity of code and the likelihood of errors.\n",
    "\n",
    "### What?\n",
    "- **Reference Counting:**  \n",
    "  The primary mechanism used by CPython. Every object keeps a count of references; when the count reaches zero, the object is immediately deallocated.\n",
    "- **Generational Garbage Collection:**  \n",
    "  In addition to reference counting, Python uses a cyclic garbage collector to detect and clean up reference cycles (objects referencing each other) that reference counting alone cannot resolve.  \n",
    "  - **Generations:** Objects are divided into generations (0, 1, and 2), with newer objects in lower generations.  \n",
    "  - **Cycle Detection:** Periodically, the GC scans these generations to identify groups of objects that are no longer reachable.\n",
    "- **gc Module:**  \n",
    "  Python provides the `gc` module to interact with the garbage collector (e.g., enabling/disabling GC, forcing collection, and tuning thresholds).\n",
    "\n",
    "### Must Know\n",
    "- **Reference Counting Basics:**  \n",
    "  Understand that every Python object maintains a reference count and how it triggers deallocation.\n",
    "- **Cycle Detection:**  \n",
    "  Be aware that the garbage collector handles cyclic references and know how to use the `gc` module to diagnose issues.\n",
    "- **Common Methods:**  \n",
    "  - `gc.collect()`: Manually trigger garbage collection.\n",
    "  - `gc.disable()` / `gc.enable()`: Turn the garbage collector off or on.\n",
    "  - `gc.get_threshold()`: Retrieve current generation thresholds.\n",
    "- **Implications on Performance:**  \n",
    "  Recognize that while the GC simplifies memory management, its operation (especially cycle detection) can introduce overhead in performance-critical applications.\n",
    "\n",
    "### Nice to Have\n",
    "- **Tuning the Garbage Collector:**  \n",
    "  Learn how to adjust the generation thresholds using `gc.set_threshold()` for better performance in specific workloads.\n",
    "- **Weak References:**  \n",
    "  Familiarize yourself with the `weakref` module, which allows you to reference objects without increasing their reference count. This is useful for caches and mappings where you don't want objects to be prevented from being garbage-collected.\n",
    "- **Memory Profiling:**  \n",
    "  Tools like `objgraph`, `memory_profiler`, or `tracemalloc` can help monitor memory usage and understand how the garbage collector is affecting your application.\n",
    "- **GC Debugging:**  \n",
    "  Knowing how to use `gc.set_debug(gc.DEBUG_LEAK)` and other debug flags can help diagnose and fix memory leaks.\n",
    "\n",
    "---\n",
    "\n",
    "This understanding of the garbage collector not only helps in writing efficient, memory-safe code but also aids in troubleshooting performance issues related to memory usage in Python applications.\n"
   ]
  },
  {
   "cell_type": "markdown",
   "metadata": {},
   "source": [
    "## Basic Example Using the Garbage Collector (gc) in Python\n",
    "\n",
    "The garbage collector (GC) in Python works under the hood to manage memory by reclaiming unused objects. While you typically don't need to intervene, knowing how to interact with the `gc` module can help you diagnose memory issues or optimize performance.\n",
    "\n",
    "### Example Code: Using the gc Module"
   ]
  },
  {
   "cell_type": "code",
   "execution_count": 2,
   "metadata": {},
   "outputs": [
    {
     "name": "stdout",
     "output_type": "stream",
     "text": [
      "Default thresholds: (700, 10, 10)\n",
      "GC enabled? False\n",
      "new thresholds: (700, 10, 10)\n",
      "Garbage collected objects: 10\n",
      "GC enabled? True\n"
     ]
    }
   ],
   "source": [
    "import gc\n",
    "\n",
    "# Print the current garbage collection thresholds.\n",
    "print(\"Default thresholds:\", gc.get_threshold())\n",
    "\n",
    "# Optionally, disable garbage collection.\n",
    "gc.disable()\n",
    "print(\"GC enabled?\", gc.isenabled())\n",
    "\n",
    "# Create a simple circular reference to simulate a cycle:\n",
    "class Node:\n",
    "    def __init__(self, value):\n",
    "        self.value = value\n",
    "        self.ref = None\n",
    "\n",
    "# Create two nodes that reference each other.\n",
    "a = Node(1)\n",
    "b = Node(2)\n",
    "a.ref = b\n",
    "b.ref = a\n",
    "\n",
    "# Delete references to these objects; they still form a cycle.\n",
    "del a\n",
    "del b\n",
    "\n",
    "# Manually trigger garbage collection to clean up cycles.\n",
    "collected = gc.collect()\n",
    "print(\"Garbage collected objects:\", collected)\n",
    "\n",
    "# Re-enable garbage collection.\n",
    "gc.enable()\n",
    "print(\"GC enabled?\", gc.isenabled())\n"
   ]
  }
 ],
 "metadata": {
  "kernelspec": {
   "display_name": "Python 3",
   "language": "python",
   "name": "python3"
  },
  "language_info": {
   "codemirror_mode": {
    "name": "ipython",
    "version": 3
   },
   "file_extension": ".py",
   "mimetype": "text/x-python",
   "name": "python",
   "nbconvert_exporter": "python",
   "pygments_lexer": "ipython3",
   "version": "3.10.4"
  }
 },
 "nbformat": 4,
 "nbformat_minor": 2
}
