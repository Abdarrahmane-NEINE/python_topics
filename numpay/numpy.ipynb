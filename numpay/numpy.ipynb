{
 "cells": [
  {
   "cell_type": "code",
   "execution_count": 7,
   "metadata": {},
   "outputs": [
    {
     "name": "stdout",
     "output_type": "stream",
     "text": [
      "cosine:  3.4139103678919276\n",
      "euclidean:  5.058949276691698\n",
      "correctd\n",
      "cosine:  0.29291923109788465\n",
      "euclidean:  25.592967784139454\n"
     ]
    }
   ],
   "source": [
    "import numpy as np\n",
    "\n",
    "def cosine(vector1, vector2):\n",
    "    return (np.linalg.norm(vector1) * np.linalg.norm(vector2)) / np.dot(vector1, vector2)\n",
    "\n",
    "def euclidean(vector1, vector2):\n",
    "    return np.sqrt(np.linalg.norm(vector1 - vector2))\n",
    "\n",
    "def cosine_c(vector1, vector2):\n",
    "    # return np.dot(vector1, vector2) / (np.linalg.norm(vector1) * np.linalg.norm(vector2)) \n",
    "    return np.dot(vector1, vector2) / (np.linalg.norm(vector1) * np.linalg.norm(vector2))\n",
    "\n",
    "def euclidean_c(vector1, vector2):\n",
    "    return np.linalg.norm(vector1 - vector2)\n",
    "\n",
    "vector1 = np.array([15, 5, 7, 1, 1, 0, 0, 1])\n",
    "vector2 = np.array([1, 5, 7, 8, 8, 0, 0, 20])\n",
    "\n",
    "print(\"cosine: \", cosine(vector1, vector2)) # 0.292919231098\n",
    "print(\"euclidean: \", euclidean(vector1, vector2)) # 25.5929677841\n",
    "print('correctd')\n",
    "print(\"cosine: \", cosine_c(vector1, vector2)) # 0.292919231098\n",
    "print(\"euclidean: \", euclidean_c(vector1, vector2)) # 25.5929677841\n"
   ]
  }
 ],
 "metadata": {
  "kernelspec": {
   "display_name": "Python 3",
   "language": "python",
   "name": "python3"
  },
  "language_info": {
   "codemirror_mode": {
    "name": "ipython",
    "version": 3
   },
   "file_extension": ".py",
   "mimetype": "text/x-python",
   "name": "python",
   "nbconvert_exporter": "python",
   "pygments_lexer": "ipython3",
   "version": "3.10.4"
  }
 },
 "nbformat": 4,
 "nbformat_minor": 2
}
